{
 "cells": [
  {
   "cell_type": "code",
   "execution_count": null,
   "metadata": {},
   "outputs": [],
   "source": [
    "print(f'Hello World!')"
   ]
  },
  {
   "cell_type": "markdown",
   "metadata": {
    "id": "PMOvzOf9yfpb"
   },
   "source": [
    "**TREINANDO A BIBLIOTECA NUMPY**"
   ]
  },
  {
   "cell_type": "markdown",
   "metadata": {
    "id": "dhYhcOWZyd8b"
   },
   "source": [
    "Criando uma lista para testar as bibliotecas"
   ]
  },
  {
   "cell_type": "code",
   "execution_count": null,
   "metadata": {
    "id": "BLoyLlm6ym4w"
   },
   "outputs": [],
   "source": [
    "lista = list(range(0,9**6))\n",
    "len(lista)"
   ]
  },
  {
   "cell_type": "markdown",
   "metadata": {
    "id": "78qSd7sWyevv"
   },
   "source": [
    "Importando a biblioteca e definindo os arrays para os testes, definindo o tipo dos códigos"
   ]
  },
  {
   "cell_type": "code",
   "execution_count": null,
   "metadata": {
    "id": "siRG3ASgyudY"
   },
   "outputs": [],
   "source": [
    "import numpy as np\n",
    "np.array(lista).shape\n",
    "nump = np.array(lista)\n",
    "nump_64 = np.array(lista, dtype=\"uint64\")\n",
    "nump_32 = np.array(lista, dtype=\"uint32\")"
   ]
  },
  {
   "cell_type": "markdown",
   "metadata": {
    "id": "twpz5Wwcyd5z"
   },
   "source": [
    "Importando a biblioteca sys para medir o tamanho das listas convertidos nas bibliotecas"
   ]
  },
  {
   "cell_type": "code",
   "execution_count": null,
   "metadata": {
    "id": "cGWg2TPVy3Xx"
   },
   "outputs": [],
   "source": [
    "import sys\n",
    "sys.getsizeof(lista), sys.getsizeof(nump_64), sys.getsizeof(nump_32)"
   ]
  },
  {
   "cell_type": "code",
   "execution_count": null,
   "metadata": {
    "id": "Wc0hzlhWzAH4"
   },
   "outputs": [],
   "source": [
    "round(1 - 4000104/9000120, 2)"
   ]
  },
  {
   "cell_type": "code",
   "execution_count": null,
   "metadata": {
    "id": "cZWCjblzy_-c"
   },
   "outputs": [],
   "source": [
    "round(1 - 8000104/9000120, 2)"
   ]
  },
  {
   "cell_type": "markdown",
   "metadata": {
    "id": "LaEpCAs_yd3L"
   },
   "source": [
    "Importando a biblioteca time para medir o tempo de execução dos códigos"
   ]
  },
  {
   "cell_type": "code",
   "execution_count": null,
   "metadata": {
    "id": "7WbWsFUeydgs"
   },
   "outputs": [],
   "source": [
    "import time"
   ]
  },
  {
   "cell_type": "code",
   "execution_count": null,
   "metadata": {
    "id": "3YQQ5Lwyz8Hp"
   },
   "outputs": [],
   "source": [
    "start = time.time()\n",
    "sum(lista)\n",
    "final = time.time()\n",
    "final - start"
   ]
  },
  {
   "cell_type": "code",
   "execution_count": null,
   "metadata": {
    "id": "a29LLdP2z--P"
   },
   "outputs": [],
   "source": [
    "start = time.time()\n",
    "nump_64.sum()          #associando a função soma ao código, podemos aumentar a produtividade\n",
    "final = time.time()\n",
    "final - start"
   ]
  },
  {
   "cell_type": "code",
   "execution_count": null,
   "metadata": {
    "id": "vik5slcp0A2J"
   },
   "outputs": [],
   "source": [
    "start = time.time()\n",
    "nump_32.sum()\n",
    "final = time.time()\n",
    "final - start"
   ]
  },
  {
   "cell_type": "markdown",
   "metadata": {
    "id": "QDc0r17Zp36j"
   },
   "source": [
    "Numpy\n",
    "1. Utilizando a biblioteca numpy siga as instruções abaixo:\n",
    "   1. Crie um array 6x6 preenchido com zero\n",
    "   1. Preencha o centro desse array com um array 4x4 preenchido com uns\n",
    "   1. Preencha o centro desse array com um array 2x2 preenchido com dois\n",
    "   1. Gere um segundo array 6x6 com números inteiros aleatórios entre 0 e 2.\n",
    "   1. Subtraia o primeiro array pelo segundo"
   ]
  },
  {
   "cell_type": "markdown",
   "metadata": {
    "id": "X8kINRUbPnti"
   },
   "source": [
    "# Ex 1"
   ]
  },
  {
   "cell_type": "markdown",
   "metadata": {
    "id": "X2BE_IHGrZSW"
   },
   "source": [
    "1.a"
   ]
  },
  {
   "cell_type": "code",
   "execution_count": 2,
   "metadata": {
    "executionInfo": {
     "elapsed": 250,
     "status": "ok",
     "timestamp": 1659238277138,
     "user": {
      "displayName": "Alan Cristofer Silva Alves",
      "userId": "00039581976732149420"
     },
     "user_tz": 180
    },
    "id": "92J8fjfUqMvs"
   },
   "outputs": [],
   "source": [
    "# !pip install numpy"
   ]
  },
  {
   "cell_type": "code",
   "execution_count": 8,
   "metadata": {
    "colab": {
     "base_uri": "https://localhost:8080/"
    },
    "executionInfo": {
     "elapsed": 224,
     "status": "ok",
     "timestamp": 1659238320264,
     "user": {
      "displayName": "Alan Cristofer Silva Alves",
      "userId": "00039581976732149420"
     },
     "user_tz": 180
    },
    "id": "hT0lZhqWpynk",
    "outputId": "6c9276b7-b4c0-45b6-dbae-86ab3e6145b8"
   },
   "outputs": [
    {
     "data": {
      "text/plain": [
       "array([[0., 0., 0., 0., 0., 0.],\n",
       "       [0., 0., 0., 0., 0., 0.],\n",
       "       [0., 0., 0., 0., 0., 0.],\n",
       "       [0., 0., 0., 0., 0., 0.],\n",
       "       [0., 0., 0., 0., 0., 0.],\n",
       "       [0., 0., 0., 0., 0., 0.]])"
      ]
     },
     "execution_count": 8,
     "metadata": {},
     "output_type": "execute_result"
    }
   ],
   "source": [
    "import numpy as np\n",
    "# help(np.zeros)\n",
    "array1 = np.zeros(shape=(6,6))\n",
    "array1"
   ]
  },
  {
   "cell_type": "code",
   "execution_count": 12,
   "metadata": {
    "colab": {
     "base_uri": "https://localhost:8080/"
    },
    "executionInfo": {
     "elapsed": 224,
     "status": "ok",
     "timestamp": 1659238355015,
     "user": {
      "displayName": "Alan Cristofer Silva Alves",
      "userId": "00039581976732149420"
     },
     "user_tz": 180
    },
    "id": "GqdfVfmquWMi",
    "outputId": "7392d756-a865-46e3-ac11-eb90d474f505"
   },
   "outputs": [
    {
     "data": {
      "text/plain": [
       "2"
      ]
     },
     "execution_count": 12,
     "metadata": {},
     "output_type": "execute_result"
    }
   ],
   "source": [
    "np.zeros(shape=(6,6)).ndim"
   ]
  },
  {
   "cell_type": "code",
   "execution_count": 13,
   "metadata": {
    "colab": {
     "base_uri": "https://localhost:8080/"
    },
    "executionInfo": {
     "elapsed": 238,
     "status": "ok",
     "timestamp": 1659238356839,
     "user": {
      "displayName": "Alan Cristofer Silva Alves",
      "userId": "00039581976732149420"
     },
     "user_tz": 180
    },
    "id": "71OPJleNuWdB",
    "outputId": "39c11234-10c4-4fcd-d2af-04f3fce747c9"
   },
   "outputs": [
    {
     "data": {
      "text/plain": [
       "36"
      ]
     },
     "execution_count": 13,
     "metadata": {},
     "output_type": "execute_result"
    }
   ],
   "source": [
    "np.zeros(shape=(6,6)).size"
   ]
  },
  {
   "cell_type": "code",
   "execution_count": 14,
   "metadata": {
    "colab": {
     "base_uri": "https://localhost:8080/"
    },
    "executionInfo": {
     "elapsed": 205,
     "status": "ok",
     "timestamp": 1659238360151,
     "user": {
      "displayName": "Alan Cristofer Silva Alves",
      "userId": "00039581976732149420"
     },
     "user_tz": 180
    },
    "id": "bmp3_DXBqGy0",
    "outputId": "572511fb-d2e4-404a-998d-eeb8020e34f8"
   },
   "outputs": [
    {
     "data": {
      "text/plain": [
       "(6, 6)"
      ]
     },
     "execution_count": 14,
     "metadata": {},
     "output_type": "execute_result"
    }
   ],
   "source": [
    "array1.shape"
   ]
  },
  {
   "cell_type": "code",
   "execution_count": 15,
   "metadata": {
    "colab": {
     "base_uri": "https://localhost:8080/"
    },
    "executionInfo": {
     "elapsed": 230,
     "status": "ok",
     "timestamp": 1659238362250,
     "user": {
      "displayName": "Alan Cristofer Silva Alves",
      "userId": "00039581976732149420"
     },
     "user_tz": 180
    },
    "id": "QorcAtpQqZwA",
    "outputId": "0d0756e3-c26a-4718-85ca-c0edbb796364"
   },
   "outputs": [
    {
     "data": {
      "text/plain": [
       "dtype('float64')"
      ]
     },
     "execution_count": 15,
     "metadata": {},
     "output_type": "execute_result"
    }
   ],
   "source": [
    "array1.dtype"
   ]
  },
  {
   "cell_type": "markdown",
   "metadata": {
    "id": "ix6AOKmXrXtm"
   },
   "source": [
    "1.b"
   ]
  },
  {
   "cell_type": "code",
   "execution_count": null,
   "metadata": {
    "colab": {
     "base_uri": "https://localhost:8080/"
    },
    "executionInfo": {
     "elapsed": 40,
     "status": "ok",
     "timestamp": 1658851496753,
     "user": {
      "displayName": "Alan Cristofer Silva Alves",
      "userId": "00039581976732149420"
     },
     "user_tz": 180
    },
    "id": "jLGhT6JRqdPm",
    "outputId": "16381ac0-50b9-4500-e978-6b87f61ece24"
   },
   "outputs": [
    {
     "data": {
      "text/plain": [
       "array([[0., 0., 0., 0., 0., 0.],\n",
       "       [0., 1., 1., 1., 1., 0.],\n",
       "       [0., 1., 1., 1., 1., 0.],\n",
       "       [0., 1., 1., 1., 1., 0.],\n",
       "       [0., 1., 1., 1., 1., 0.],\n",
       "       [0., 0., 0., 0., 0., 0.]])"
      ]
     },
     "execution_count": 16,
     "metadata": {},
     "output_type": "execute_result"
    }
   ],
   "source": [
    "# array[1]\n",
    "# array1[1, 1]\n",
    "# array1[1:4]\n",
    "# array1[1:5]\n",
    "# array1[1:-1]\n",
    "# array1[1:-1, 1:-1]\n",
    "# help(np.ones)\n",
    "array1[1:-1, 1:-1] = np.ones(shape=(4,4))\n",
    "array1\n",
    "# não dá pra fazer assim com listas sem utilizar for"
   ]
  },
  {
   "cell_type": "markdown",
   "metadata": {
    "id": "r1MDjXB0tyl0"
   },
   "source": [
    "1.c"
   ]
  },
  {
   "cell_type": "code",
   "execution_count": null,
   "metadata": {
    "colab": {
     "base_uri": "https://localhost:8080/"
    },
    "executionInfo": {
     "elapsed": 39,
     "status": "ok",
     "timestamp": 1658851496754,
     "user": {
      "displayName": "Alan Cristofer Silva Alves",
      "userId": "00039581976732149420"
     },
     "user_tz": 180
    },
    "id": "ZRS0zKVKqolQ",
    "outputId": "77b5a7ad-7836-4ca2-97f0-e0b7a7c0739b"
   },
   "outputs": [
    {
     "data": {
      "text/plain": [
       "array([[0., 0., 0., 0., 0., 0.],\n",
       "       [0., 1., 1., 1., 1., 0.],\n",
       "       [0., 1., 2., 2., 1., 0.],\n",
       "       [0., 1., 2., 2., 1., 0.],\n",
       "       [0., 1., 1., 1., 1., 0.],\n",
       "       [0., 0., 0., 0., 0., 0.]])"
      ]
     },
     "execution_count": 17,
     "metadata": {},
     "output_type": "execute_result"
    }
   ],
   "source": [
    "# np.array([\n",
    "#   [2,2],\n",
    "#   [2,2]\n",
    "# ])\n",
    "# np.zeros(shape=(2,2)) + 2\n",
    "# np.ones(shape=(2,2)) * 2\n",
    "# Não dá pra fazer assim com listas\n",
    "# help(np.full)\n",
    "array1[2:-2, 2:-2] = np.full(shape=(2,2), fill_value=2)\n",
    "array1"
   ]
  },
  {
   "cell_type": "markdown",
   "metadata": {
    "id": "T9ZvCfVat14D"
   },
   "source": [
    "1.d"
   ]
  },
  {
   "cell_type": "code",
   "execution_count": null,
   "metadata": {
    "colab": {
     "base_uri": "https://localhost:8080/"
    },
    "executionInfo": {
     "elapsed": 37,
     "status": "ok",
     "timestamp": 1658851496754,
     "user": {
      "displayName": "Alan Cristofer Silva Alves",
      "userId": "00039581976732149420"
     },
     "user_tz": 180
    },
    "id": "8k6PIYaxsF0m",
    "outputId": "ef0519bb-cbf9-4343-de20-a1da8282d185"
   },
   "outputs": [
    {
     "data": {
      "text/plain": [
       "array([[0, 1, 0, 1, 1, 2],\n",
       "       [0, 2, 0, 0, 0, 2],\n",
       "       [1, 2, 2, 0, 1, 1],\n",
       "       [1, 1, 0, 1, 0, 0],\n",
       "       [1, 2, 0, 2, 0, 1],\n",
       "       [1, 2, 0, 1, 1, 1]])"
      ]
     },
     "execution_count": 18,
     "metadata": {},
     "output_type": "execute_result"
    }
   ],
   "source": [
    "# numpy random\n",
    "# https://numpy.org/doc/1.16/reference/routines.random.html\n",
    "# help(np.random.randint)\n",
    "# np.random.randint(low=0, high=3, size=(6,6))\n",
    "# numpy set seed\n",
    "# https://docs.scipy.org/doc/numpy-1.15.1/reference/generated/numpy.random.seed.html\n",
    "np.random.seed(0)\n",
    "array2 = np.random.randint(low=0, high=3, size=(6,6))\n",
    "array2"
   ]
  },
  {
   "cell_type": "markdown",
   "metadata": {
    "id": "INwKMziov_t6"
   },
   "source": [
    "1.e"
   ]
  },
  {
   "cell_type": "code",
   "execution_count": null,
   "metadata": {
    "colab": {
     "base_uri": "https://localhost:8080/"
    },
    "executionInfo": {
     "elapsed": 36,
     "status": "ok",
     "timestamp": 1658851496754,
     "user": {
      "displayName": "Alan Cristofer Silva Alves",
      "userId": "00039581976732149420"
     },
     "user_tz": 180
    },
    "id": "1_YJEwdQtY_9",
    "outputId": "9788ae9c-6a59-45be-acb1-1f24ca9ab3f2"
   },
   "outputs": [
    {
     "data": {
      "text/plain": [
       "array([[ 0., -1.,  0., -1., -1., -2.],\n",
       "       [ 0., -1.,  1.,  1.,  1., -2.],\n",
       "       [-1., -1.,  0.,  2.,  0., -1.],\n",
       "       [-1.,  0.,  2.,  1.,  1.,  0.],\n",
       "       [-1., -1.,  1., -1.,  1., -1.],\n",
       "       [-1., -2.,  0., -1., -1., -1.]])"
      ]
     },
     "execution_count": 19,
     "metadata": {},
     "output_type": "execute_result"
    }
   ],
   "source": [
    "array1-array2"
   ]
  },
  {
   "cell_type": "markdown",
   "metadata": {
    "id": "RQg16Fe8P2QI"
   },
   "source": [
    "# Ex 2"
   ]
  },
  {
   "cell_type": "markdown",
   "metadata": {
    "id": "xnF6dzzfwQOy"
   },
   "source": [
    "\n",
    "2. Crie um array de duas dimensões, no formato 9x9, com números de 0 a 80 ordenados de modo crescente e selecione:\n",
    "   1. Os números ímpares\n",
    "   1. Os números pares\n",
    "   1. Os múltiplos de sete\n",
    "   1. Os múltiplos de 10\n",
    "   1. Os números 32,33,42,43"
   ]
  },
  {
   "cell_type": "markdown",
   "metadata": {
    "id": "AvG-i579wE8f"
   },
   "source": [
    "2"
   ]
  },
  {
   "cell_type": "markdown",
   "metadata": {
    "id": "gyfCoOe3xzDk"
   },
   "source": [
    "2.a e b"
   ]
  },
  {
   "cell_type": "code",
   "execution_count": 24,
   "metadata": {
    "colab": {
     "base_uri": "https://localhost:8080/"
    },
    "executionInfo": {
     "elapsed": 228,
     "status": "ok",
     "timestamp": 1659240511854,
     "user": {
      "displayName": "Alan Cristofer Silva Alves",
      "userId": "00039581976732149420"
     },
     "user_tz": 180
    },
    "id": "Moq7jTguwBkT",
    "outputId": "cc4994ba-b86a-4548-9ef8-9a33ddadddbc"
   },
   "outputs": [
    {
     "data": {
      "text/plain": [
       "array([[ 0,  1,  2,  3,  4,  5,  6,  7,  8],\n",
       "       [ 9, 10, 11, 12, 13, 14, 15, 16, 17],\n",
       "       [18, 19, 20, 21, 22, 23, 24, 25, 26],\n",
       "       [27, 28, 29, 30, 31, 32, 33, 34, 35],\n",
       "       [36, 37, 38, 39, 40, 41, 42, 43, 44],\n",
       "       [45, 46, 47, 48, 49, 50, 51, 52, 53],\n",
       "       [54, 55, 56, 57, 58, 59, 60, 61, 62],\n",
       "       [63, 64, 65, 66, 67, 68, 69, 70, 71],\n",
       "       [72, 73, 74, 75, 76, 77, 78, 79, 80]])"
      ]
     },
     "execution_count": 24,
     "metadata": {},
     "output_type": "execute_result"
    }
   ],
   "source": [
    "# help(np.arange)\n",
    "# np.arange(start=0, stop=81, step=1)\n",
    "array = np.arange(81).reshape(9,9)\n",
    "# np.arange(start=0, stop=81, step=1).reshape(9,-1)\n",
    "array"
   ]
  },
  {
   "cell_type": "code",
   "execution_count": 28,
   "metadata": {
    "colab": {
     "base_uri": "https://localhost:8080/"
    },
    "executionInfo": {
     "elapsed": 238,
     "status": "ok",
     "timestamp": 1659240941200,
     "user": {
      "displayName": "Alan Cristofer Silva Alves",
      "userId": "00039581976732149420"
     },
     "user_tz": 180
    },
    "id": "L9WoPQ27xElU",
    "outputId": "0cf7b642-54fa-4cf8-bbb7-de0b07b6656e"
   },
   "outputs": [
    {
     "data": {
      "text/plain": [
       "array([ 1,  3,  5,  7,  9, 11, 13, 15, 17, 19, 21, 23, 25, 27, 29, 31, 33,\n",
       "       35, 37, 39, 41, 43, 45, 47, 49, 51, 53, 55, 57, 59, 61, 63, 65, 67,\n",
       "       69, 71, 73, 75, 77, 79])"
      ]
     },
     "execution_count": 28,
     "metadata": {},
     "output_type": "execute_result"
    }
   ],
   "source": [
    "# array % 2\n",
    "array[array % 2 == 1]\n",
    "mask_impar = array % 2 == 1 # Mask\n",
    "# mask_impar\n",
    "array[mask_impar]\n"
   ]
  },
  {
   "cell_type": "markdown",
   "metadata": {
    "id": "_EqYfn6CyC-Z"
   },
   "source": [
    "2.b"
   ]
  },
  {
   "cell_type": "code",
   "execution_count": null,
   "metadata": {
    "colab": {
     "base_uri": "https://localhost:8080/"
    },
    "executionInfo": {
     "elapsed": 32,
     "status": "ok",
     "timestamp": 1658851496756,
     "user": {
      "displayName": "Alan Cristofer Silva Alves",
      "userId": "00039581976732149420"
     },
     "user_tz": 180
    },
    "id": "NxqMif0VyBTV",
    "outputId": "f84ffd97-a9e9-4fec-e720-114576eb1be7"
   },
   "outputs": [
    {
     "data": {
      "text/plain": [
       "array([ 0,  2,  4,  6,  8, 10, 12, 14, 16, 18, 20, 22, 24, 26, 28, 30, 32,\n",
       "       34, 36, 38, 40, 42, 44, 46, 48, 50, 52, 54, 56, 58, 60, 62, 64, 66,\n",
       "       68, 70, 72, 74, 76, 78, 80])"
      ]
     },
     "execution_count": 22,
     "metadata": {},
     "output_type": "execute_result"
    }
   ],
   "source": [
    "# array[not mask_impar]\n",
    "# array[~mask_impar]\n",
    "# array % 2 == 0\n",
    "mask_par = array % 2 == 0 # Mask\n",
    "array[mask_par]"
   ]
  },
  {
   "cell_type": "markdown",
   "metadata": {
    "id": "giqejT30zLmf"
   },
   "source": [
    "2.c"
   ]
  },
  {
   "cell_type": "code",
   "execution_count": null,
   "metadata": {
    "colab": {
     "base_uri": "https://localhost:8080/"
    },
    "executionInfo": {
     "elapsed": 30,
     "status": "ok",
     "timestamp": 1658851496756,
     "user": {
      "displayName": "Alan Cristofer Silva Alves",
      "userId": "00039581976732149420"
     },
     "user_tz": 180
    },
    "id": "jT0fDnQAzK8x",
    "outputId": "bce76f21-099d-4aee-ce1d-3ca4e9a0d04f"
   },
   "outputs": [
    {
     "data": {
      "text/plain": [
       "array([ 0,  7, 14, 21, 28, 35, 42, 49, 56, 63, 70, 77])"
      ]
     },
     "execution_count": 23,
     "metadata": {},
     "output_type": "execute_result"
    }
   ],
   "source": [
    "array\n",
    "# array % 7\n",
    "# array % 7 == 0\n",
    "array[array % 7 == 0]\n",
    "# multi_sete = [0, 7, 14, 21, 28, 35, 42, 49, 56, 63, 70, 77]\n",
    "# numpy check array values in list\n",
    "# https://numpy.org/doc/stable/reference/generated/numpy.isin.html\n",
    "# mask_sete = np.isin(array, multi_sete)\n",
    "# array[mask_sete]\n",
    "# list(range(0, 80, 7))\n",
    "# array[np.isin(array, range(0, 80, 7))]"
   ]
  },
  {
   "cell_type": "markdown",
   "metadata": {
    "id": "s0LGRFE-06uw"
   },
   "source": [
    "2.d"
   ]
  },
  {
   "cell_type": "code",
   "execution_count": null,
   "metadata": {
    "id": "Wx86uMmC0_Mu"
   },
   "outputs": [],
   "source": [
    "# numpy get matrix diagonal\n",
    "# https://numpy.org/doc/stable/reference/generated/numpy.diagonal.html\n",
    "# array.diagonal()\n",
    "# np.diag(array)\n",
    "# array[array %10 == 0]\n",
    "# array.shape\n",
    "# for i in range(array.shape[0]):\n",
    "#   print(array[i,i])\n",
    "# array.ravel()[::10]"
   ]
  },
  {
   "cell_type": "markdown",
   "metadata": {
    "id": "xO6QciGA2rJ8"
   },
   "source": [
    "2.e"
   ]
  },
  {
   "cell_type": "code",
   "execution_count": null,
   "metadata": {
    "colab": {
     "base_uri": "https://localhost:8080/"
    },
    "executionInfo": {
     "elapsed": 29,
     "status": "ok",
     "timestamp": 1658851496757,
     "user": {
      "displayName": "Alan Cristofer Silva Alves",
      "userId": "00039581976732149420"
     },
     "user_tz": 180
    },
    "id": "Zf3fePHF3cpV",
    "outputId": "281b16a2-fd72-4fcc-fa2c-2eb737add9b4"
   },
   "outputs": [
    {
     "data": {
      "text/plain": [
       "array([[ 0,  1,  2,  3,  4,  5,  6,  7,  8],\n",
       "       [ 9, 10, 11, 12, 13, 14, 15, 16, 17],\n",
       "       [18, 19, 20, 21, 22, 23, 24, 25, 26],\n",
       "       [27, 28, 29, 30, 31, 32, 33, 34, 35],\n",
       "       [36, 37, 38, 39, 40, 41, 42, 43, 44],\n",
       "       [45, 46, 47, 48, 49, 50, 51, 52, 53],\n",
       "       [54, 55, 56, 57, 58, 59, 60, 61, 62],\n",
       "       [63, 64, 65, 66, 67, 68, 69, 70, 71],\n",
       "       [72, 73, 74, 75, 76, 77, 78, 79, 80]])"
      ]
     },
     "execution_count": 25,
     "metadata": {},
     "output_type": "execute_result"
    }
   ],
   "source": [
    "array"
   ]
  },
  {
   "cell_type": "code",
   "execution_count": null,
   "metadata": {
    "colab": {
     "base_uri": "https://localhost:8080/"
    },
    "executionInfo": {
     "elapsed": 29,
     "status": "ok",
     "timestamp": 1658851496758,
     "user": {
      "displayName": "Alan Cristofer Silva Alves",
      "userId": "00039581976732149420"
     },
     "user_tz": 180
    },
    "id": "ZbxHky5o2sNS",
    "outputId": "622d0c21-f165-46dd-8a54-a7ee1b21af98"
   },
   "outputs": [
    {
     "data": {
      "text/plain": [
       "array([32, 33, 42, 43])"
      ]
     },
     "execution_count": 26,
     "metadata": {},
     "output_type": "execute_result"
    }
   ],
   "source": [
    "# array.ravel()[[32,33,42,43]]\n",
    "# array[np.isin(array, [32,33,42,43])]\n",
    "array[[3,3,4,4],[5,6,6,7]]"
   ]
  },
  {
   "cell_type": "markdown",
   "metadata": {
    "id": "7IbwVb7mwTPq"
   },
   "source": [
    "\n",
    "3. Crie um array com três dimensões, onde a primeira dimensão são os dias da semana (seg a dom), a segunda dimensão são as semanas do mês (considere apenas 4 para todos os meses), e a terceira são os meses do ano (Jan a dezembro).\n",
    "   1. Marque os finais de semana com a letra W\n",
    "   1. Marque o começo do mês com a letra S\n",
    "   1. Marque o final do mês com a letra E\n",
    "   1. Marque os demais dias com a letra D\n",
    "   1. Marque os feriados nacionais com a letra F\n",
    "      - 01/01 - Ano novo\n",
    "      - 15/04 - Paixão de Cristo\n",
    "      - 21/04 - Tiradentes\n",
    "      - 01/05 - Dia do Trabalho\n",
    "      - 07/09 - Independência do Brasil\n",
    "      - 12/10 - Nossa Senhora Aparecida\n",
    "      - 02/11 - Finados\n",
    "      - 15/11 - Proclamação da República\n",
    "      - 25/12 - Natal"
   ]
  },
  {
   "cell_type": "code",
   "execution_count": null,
   "metadata": {
    "colab": {
     "base_uri": "https://localhost:8080/"
    },
    "executionInfo": {
     "elapsed": 27,
     "status": "ok",
     "timestamp": 1658851496758,
     "user": {
      "displayName": "Alan Cristofer Silva Alves",
      "userId": "00039581976732149420"
     },
     "user_tz": 180
    },
    "id": "O2cUNlvgwUCj",
    "outputId": "fada5f68-f31c-410c-a40d-c0c855cfd4a0"
   },
   "outputs": [
    {
     "data": {
      "text/plain": [
       "array([[[ 1,  2,  3,  4,  5,  6,  7],\n",
       "        [ 8,  9, 10, 11, 12, 13, 14],\n",
       "        [15, 16, 17, 18, 19, 20, 21],\n",
       "        [22, 23, 24, 25, 26, 27, 28]],\n",
       "\n",
       "       [[ 1,  2,  3,  4,  5,  6,  7],\n",
       "        [ 8,  9, 10, 11, 12, 13, 14],\n",
       "        [15, 16, 17, 18, 19, 20, 21],\n",
       "        [22, 23, 24, 25, 26, 27, 28]],\n",
       "\n",
       "       [[ 1,  2,  3,  4,  5,  6,  7],\n",
       "        [ 8,  9, 10, 11, 12, 13, 14],\n",
       "        [15, 16, 17, 18, 19, 20, 21],\n",
       "        [22, 23, 24, 25, 26, 27, 28]],\n",
       "\n",
       "       [[ 1,  2,  3,  4,  5,  6,  7],\n",
       "        [ 8,  9, 10, 11, 12, 13, 14],\n",
       "        [15, 16, 17, 18, 19, 20, 21],\n",
       "        [22, 23, 24, 25, 26, 27, 28]],\n",
       "\n",
       "       [[ 1,  2,  3,  4,  5,  6,  7],\n",
       "        [ 8,  9, 10, 11, 12, 13, 14],\n",
       "        [15, 16, 17, 18, 19, 20, 21],\n",
       "        [22, 23, 24, 25, 26, 27, 28]],\n",
       "\n",
       "       [[ 1,  2,  3,  4,  5,  6,  7],\n",
       "        [ 8,  9, 10, 11, 12, 13, 14],\n",
       "        [15, 16, 17, 18, 19, 20, 21],\n",
       "        [22, 23, 24, 25, 26, 27, 28]],\n",
       "\n",
       "       [[ 1,  2,  3,  4,  5,  6,  7],\n",
       "        [ 8,  9, 10, 11, 12, 13, 14],\n",
       "        [15, 16, 17, 18, 19, 20, 21],\n",
       "        [22, 23, 24, 25, 26, 27, 28]],\n",
       "\n",
       "       [[ 1,  2,  3,  4,  5,  6,  7],\n",
       "        [ 8,  9, 10, 11, 12, 13, 14],\n",
       "        [15, 16, 17, 18, 19, 20, 21],\n",
       "        [22, 23, 24, 25, 26, 27, 28]],\n",
       "\n",
       "       [[ 1,  2,  3,  4,  5,  6,  7],\n",
       "        [ 8,  9, 10, 11, 12, 13, 14],\n",
       "        [15, 16, 17, 18, 19, 20, 21],\n",
       "        [22, 23, 24, 25, 26, 27, 28]],\n",
       "\n",
       "       [[ 1,  2,  3,  4,  5,  6,  7],\n",
       "        [ 8,  9, 10, 11, 12, 13, 14],\n",
       "        [15, 16, 17, 18, 19, 20, 21],\n",
       "        [22, 23, 24, 25, 26, 27, 28]],\n",
       "\n",
       "       [[ 1,  2,  3,  4,  5,  6,  7],\n",
       "        [ 8,  9, 10, 11, 12, 13, 14],\n",
       "        [15, 16, 17, 18, 19, 20, 21],\n",
       "        [22, 23, 24, 25, 26, 27, 28]],\n",
       "\n",
       "       [[ 1,  2,  3,  4,  5,  6,  7],\n",
       "        [ 8,  9, 10, 11, 12, 13, 14],\n",
       "        [15, 16, 17, 18, 19, 20, 21],\n",
       "        [22, 23, 24, 25, 26, 27, 28]]])"
      ]
     },
     "execution_count": 27,
     "metadata": {},
     "output_type": "execute_result"
    }
   ],
   "source": [
    "# numpy repeat array\n",
    "# https://numpy.org/doc/stable/reference/generated/numpy.tile.html\n",
    "month = np.arange(1,29).reshape(4,7)\n",
    "# month\n",
    "# np.tile(month, (12,1,1)).shape\n",
    "calendar = np.tile(month, (12,1,1))\n",
    "calendar"
   ]
  },
  {
   "cell_type": "markdown",
   "metadata": {
    "id": "9-WEcxcG7bfg"
   },
   "source": [
    "3.a"
   ]
  },
  {
   "cell_type": "code",
   "execution_count": null,
   "metadata": {
    "colab": {
     "base_uri": "https://localhost:8080/"
    },
    "executionInfo": {
     "elapsed": 25,
     "status": "ok",
     "timestamp": 1658851496758,
     "user": {
      "displayName": "Alan Cristofer Silva Alves",
      "userId": "00039581976732149420"
     },
     "user_tz": 180
    },
    "id": "5_PoqXxE4H8v",
    "outputId": "5bd8fc1d-7a65-4b68-e887-0ba60b372de9"
   },
   "outputs": [
    {
     "data": {
      "text/plain": [
       "array([[['1', '2', '3', '4', '5', 'W', 'W'],\n",
       "        ['8', '9', '10', '11', '12', 'W', 'W'],\n",
       "        ['15', '16', '17', '18', '19', 'W', 'W'],\n",
       "        ['22', '23', '24', '25', '26', 'W', 'W']],\n",
       "\n",
       "       [['1', '2', '3', '4', '5', 'W', 'W'],\n",
       "        ['8', '9', '10', '11', '12', 'W', 'W'],\n",
       "        ['15', '16', '17', '18', '19', 'W', 'W'],\n",
       "        ['22', '23', '24', '25', '26', 'W', 'W']],\n",
       "\n",
       "       [['1', '2', '3', '4', '5', 'W', 'W'],\n",
       "        ['8', '9', '10', '11', '12', 'W', 'W'],\n",
       "        ['15', '16', '17', '18', '19', 'W', 'W'],\n",
       "        ['22', '23', '24', '25', '26', 'W', 'W']],\n",
       "\n",
       "       [['1', '2', '3', '4', '5', 'W', 'W'],\n",
       "        ['8', '9', '10', '11', '12', 'W', 'W'],\n",
       "        ['15', '16', '17', '18', '19', 'W', 'W'],\n",
       "        ['22', '23', '24', '25', '26', 'W', 'W']],\n",
       "\n",
       "       [['1', '2', '3', '4', '5', 'W', 'W'],\n",
       "        ['8', '9', '10', '11', '12', 'W', 'W'],\n",
       "        ['15', '16', '17', '18', '19', 'W', 'W'],\n",
       "        ['22', '23', '24', '25', '26', 'W', 'W']],\n",
       "\n",
       "       [['1', '2', '3', '4', '5', 'W', 'W'],\n",
       "        ['8', '9', '10', '11', '12', 'W', 'W'],\n",
       "        ['15', '16', '17', '18', '19', 'W', 'W'],\n",
       "        ['22', '23', '24', '25', '26', 'W', 'W']],\n",
       "\n",
       "       [['1', '2', '3', '4', '5', 'W', 'W'],\n",
       "        ['8', '9', '10', '11', '12', 'W', 'W'],\n",
       "        ['15', '16', '17', '18', '19', 'W', 'W'],\n",
       "        ['22', '23', '24', '25', '26', 'W', 'W']],\n",
       "\n",
       "       [['1', '2', '3', '4', '5', 'W', 'W'],\n",
       "        ['8', '9', '10', '11', '12', 'W', 'W'],\n",
       "        ['15', '16', '17', '18', '19', 'W', 'W'],\n",
       "        ['22', '23', '24', '25', '26', 'W', 'W']],\n",
       "\n",
       "       [['1', '2', '3', '4', '5', 'W', 'W'],\n",
       "        ['8', '9', '10', '11', '12', 'W', 'W'],\n",
       "        ['15', '16', '17', '18', '19', 'W', 'W'],\n",
       "        ['22', '23', '24', '25', '26', 'W', 'W']],\n",
       "\n",
       "       [['1', '2', '3', '4', '5', 'W', 'W'],\n",
       "        ['8', '9', '10', '11', '12', 'W', 'W'],\n",
       "        ['15', '16', '17', '18', '19', 'W', 'W'],\n",
       "        ['22', '23', '24', '25', '26', 'W', 'W']],\n",
       "\n",
       "       [['1', '2', '3', '4', '5', 'W', 'W'],\n",
       "        ['8', '9', '10', '11', '12', 'W', 'W'],\n",
       "        ['15', '16', '17', '18', '19', 'W', 'W'],\n",
       "        ['22', '23', '24', '25', '26', 'W', 'W']],\n",
       "\n",
       "       [['1', '2', '3', '4', '5', 'W', 'W'],\n",
       "        ['8', '9', '10', '11', '12', 'W', 'W'],\n",
       "        ['15', '16', '17', '18', '19', 'W', 'W'],\n",
       "        ['22', '23', '24', '25', '26', 'W', 'W']]], dtype='<U21')"
      ]
     },
     "execution_count": 28,
     "metadata": {},
     "output_type": "execute_result"
    }
   ],
   "source": [
    "# calendar[:,:, 5:]\n",
    "# calendar[:,:, 5:] = 'W'\n",
    "calendar = calendar.astype(str)\n",
    "calendar[:,:, 5:] = 'W'\n",
    "calendar\n",
    "# Vai ter que utilizar muito for pra fazer isso em lista"
   ]
  },
  {
   "cell_type": "markdown",
   "metadata": {
    "id": "s07hIS6g77mE"
   },
   "source": [
    "3.b"
   ]
  },
  {
   "cell_type": "code",
   "execution_count": null,
   "metadata": {
    "colab": {
     "base_uri": "https://localhost:8080/"
    },
    "executionInfo": {
     "elapsed": 23,
     "status": "ok",
     "timestamp": 1658851496759,
     "user": {
      "displayName": "Alan Cristofer Silva Alves",
      "userId": "00039581976732149420"
     },
     "user_tz": 180
    },
    "id": "jIZ5jlv57h0k",
    "outputId": "ba769409-c029-48f7-99d5-aadea75bd95a"
   },
   "outputs": [
    {
     "data": {
      "text/plain": [
       "array([[['S', '2', '3', '4', '5', 'W', 'W'],\n",
       "        ['8', '9', '10', '11', '12', 'W', 'W'],\n",
       "        ['15', '16', '17', '18', '19', 'W', 'W'],\n",
       "        ['22', '23', '24', '25', '26', 'W', 'W']],\n",
       "\n",
       "       [['S', '2', '3', '4', '5', 'W', 'W'],\n",
       "        ['8', '9', '10', '11', '12', 'W', 'W'],\n",
       "        ['15', '16', '17', '18', '19', 'W', 'W'],\n",
       "        ['22', '23', '24', '25', '26', 'W', 'W']],\n",
       "\n",
       "       [['S', '2', '3', '4', '5', 'W', 'W'],\n",
       "        ['8', '9', '10', '11', '12', 'W', 'W'],\n",
       "        ['15', '16', '17', '18', '19', 'W', 'W'],\n",
       "        ['22', '23', '24', '25', '26', 'W', 'W']],\n",
       "\n",
       "       [['S', '2', '3', '4', '5', 'W', 'W'],\n",
       "        ['8', '9', '10', '11', '12', 'W', 'W'],\n",
       "        ['15', '16', '17', '18', '19', 'W', 'W'],\n",
       "        ['22', '23', '24', '25', '26', 'W', 'W']],\n",
       "\n",
       "       [['S', '2', '3', '4', '5', 'W', 'W'],\n",
       "        ['8', '9', '10', '11', '12', 'W', 'W'],\n",
       "        ['15', '16', '17', '18', '19', 'W', 'W'],\n",
       "        ['22', '23', '24', '25', '26', 'W', 'W']],\n",
       "\n",
       "       [['S', '2', '3', '4', '5', 'W', 'W'],\n",
       "        ['8', '9', '10', '11', '12', 'W', 'W'],\n",
       "        ['15', '16', '17', '18', '19', 'W', 'W'],\n",
       "        ['22', '23', '24', '25', '26', 'W', 'W']],\n",
       "\n",
       "       [['S', '2', '3', '4', '5', 'W', 'W'],\n",
       "        ['8', '9', '10', '11', '12', 'W', 'W'],\n",
       "        ['15', '16', '17', '18', '19', 'W', 'W'],\n",
       "        ['22', '23', '24', '25', '26', 'W', 'W']],\n",
       "\n",
       "       [['S', '2', '3', '4', '5', 'W', 'W'],\n",
       "        ['8', '9', '10', '11', '12', 'W', 'W'],\n",
       "        ['15', '16', '17', '18', '19', 'W', 'W'],\n",
       "        ['22', '23', '24', '25', '26', 'W', 'W']],\n",
       "\n",
       "       [['S', '2', '3', '4', '5', 'W', 'W'],\n",
       "        ['8', '9', '10', '11', '12', 'W', 'W'],\n",
       "        ['15', '16', '17', '18', '19', 'W', 'W'],\n",
       "        ['22', '23', '24', '25', '26', 'W', 'W']],\n",
       "\n",
       "       [['S', '2', '3', '4', '5', 'W', 'W'],\n",
       "        ['8', '9', '10', '11', '12', 'W', 'W'],\n",
       "        ['15', '16', '17', '18', '19', 'W', 'W'],\n",
       "        ['22', '23', '24', '25', '26', 'W', 'W']],\n",
       "\n",
       "       [['S', '2', '3', '4', '5', 'W', 'W'],\n",
       "        ['8', '9', '10', '11', '12', 'W', 'W'],\n",
       "        ['15', '16', '17', '18', '19', 'W', 'W'],\n",
       "        ['22', '23', '24', '25', '26', 'W', 'W']],\n",
       "\n",
       "       [['S', '2', '3', '4', '5', 'W', 'W'],\n",
       "        ['8', '9', '10', '11', '12', 'W', 'W'],\n",
       "        ['15', '16', '17', '18', '19', 'W', 'W'],\n",
       "        ['22', '23', '24', '25', '26', 'W', 'W']]], dtype='<U21')"
      ]
     },
     "execution_count": 29,
     "metadata": {},
     "output_type": "execute_result"
    }
   ],
   "source": [
    "calendar[:, 0, 0]\n",
    "calendar[:, 0, 0] = 'S'\n",
    "calendar"
   ]
  },
  {
   "cell_type": "markdown",
   "metadata": {
    "id": "62AdhKjY8Lip"
   },
   "source": [
    "3.c"
   ]
  },
  {
   "cell_type": "code",
   "execution_count": null,
   "metadata": {
    "colab": {
     "base_uri": "https://localhost:8080/"
    },
    "executionInfo": {
     "elapsed": 20,
     "status": "ok",
     "timestamp": 1658851496759,
     "user": {
      "displayName": "Alan Cristofer Silva Alves",
      "userId": "00039581976732149420"
     },
     "user_tz": 180
    },
    "id": "JafhgI3_8AAE",
    "outputId": "b9c7d271-641f-45a3-b335-e6c451e80cbe"
   },
   "outputs": [
    {
     "data": {
      "text/plain": [
       "array([[['S', '2', '3', '4', '5', 'W', 'W'],\n",
       "        ['8', '9', '10', '11', '12', 'W', 'W'],\n",
       "        ['15', '16', '17', '18', '19', 'W', 'W'],\n",
       "        ['22', '23', '24', '25', '26', 'W', 'E']],\n",
       "\n",
       "       [['S', '2', '3', '4', '5', 'W', 'W'],\n",
       "        ['8', '9', '10', '11', '12', 'W', 'W'],\n",
       "        ['15', '16', '17', '18', '19', 'W', 'W'],\n",
       "        ['22', '23', '24', '25', '26', 'W', 'E']],\n",
       "\n",
       "       [['S', '2', '3', '4', '5', 'W', 'W'],\n",
       "        ['8', '9', '10', '11', '12', 'W', 'W'],\n",
       "        ['15', '16', '17', '18', '19', 'W', 'W'],\n",
       "        ['22', '23', '24', '25', '26', 'W', 'E']],\n",
       "\n",
       "       [['S', '2', '3', '4', '5', 'W', 'W'],\n",
       "        ['8', '9', '10', '11', '12', 'W', 'W'],\n",
       "        ['15', '16', '17', '18', '19', 'W', 'W'],\n",
       "        ['22', '23', '24', '25', '26', 'W', 'E']],\n",
       "\n",
       "       [['S', '2', '3', '4', '5', 'W', 'W'],\n",
       "        ['8', '9', '10', '11', '12', 'W', 'W'],\n",
       "        ['15', '16', '17', '18', '19', 'W', 'W'],\n",
       "        ['22', '23', '24', '25', '26', 'W', 'E']],\n",
       "\n",
       "       [['S', '2', '3', '4', '5', 'W', 'W'],\n",
       "        ['8', '9', '10', '11', '12', 'W', 'W'],\n",
       "        ['15', '16', '17', '18', '19', 'W', 'W'],\n",
       "        ['22', '23', '24', '25', '26', 'W', 'E']],\n",
       "\n",
       "       [['S', '2', '3', '4', '5', 'W', 'W'],\n",
       "        ['8', '9', '10', '11', '12', 'W', 'W'],\n",
       "        ['15', '16', '17', '18', '19', 'W', 'W'],\n",
       "        ['22', '23', '24', '25', '26', 'W', 'E']],\n",
       "\n",
       "       [['S', '2', '3', '4', '5', 'W', 'W'],\n",
       "        ['8', '9', '10', '11', '12', 'W', 'W'],\n",
       "        ['15', '16', '17', '18', '19', 'W', 'W'],\n",
       "        ['22', '23', '24', '25', '26', 'W', 'E']],\n",
       "\n",
       "       [['S', '2', '3', '4', '5', 'W', 'W'],\n",
       "        ['8', '9', '10', '11', '12', 'W', 'W'],\n",
       "        ['15', '16', '17', '18', '19', 'W', 'W'],\n",
       "        ['22', '23', '24', '25', '26', 'W', 'E']],\n",
       "\n",
       "       [['S', '2', '3', '4', '5', 'W', 'W'],\n",
       "        ['8', '9', '10', '11', '12', 'W', 'W'],\n",
       "        ['15', '16', '17', '18', '19', 'W', 'W'],\n",
       "        ['22', '23', '24', '25', '26', 'W', 'E']],\n",
       "\n",
       "       [['S', '2', '3', '4', '5', 'W', 'W'],\n",
       "        ['8', '9', '10', '11', '12', 'W', 'W'],\n",
       "        ['15', '16', '17', '18', '19', 'W', 'W'],\n",
       "        ['22', '23', '24', '25', '26', 'W', 'E']],\n",
       "\n",
       "       [['S', '2', '3', '4', '5', 'W', 'W'],\n",
       "        ['8', '9', '10', '11', '12', 'W', 'W'],\n",
       "        ['15', '16', '17', '18', '19', 'W', 'W'],\n",
       "        ['22', '23', '24', '25', '26', 'W', 'E']]], dtype='<U21')"
      ]
     },
     "execution_count": 30,
     "metadata": {},
     "output_type": "execute_result"
    }
   ],
   "source": [
    "# calendar[:, 3, 6]\n",
    "calendar[:, -1, -1]\n",
    "calendar[:, -1, -1] = 'E'\n",
    "calendar"
   ]
  },
  {
   "cell_type": "code",
   "execution_count": null,
   "metadata": {
    "colab": {
     "base_uri": "https://localhost:8080/"
    },
    "executionInfo": {
     "elapsed": 357,
     "status": "ok",
     "timestamp": 1658851497100,
     "user": {
      "displayName": "Alan Cristofer Silva Alves",
      "userId": "00039581976732149420"
     },
     "user_tz": 180
    },
    "id": "wkIQn21h8Tol",
    "outputId": "528b9f7f-45b7-444f-fbb3-7ed3cd32b875"
   },
   "outputs": [
    {
     "data": {
      "text/plain": [
       "array([[['F', '2', '3', '4', '5', 'W', 'W'],\n",
       "        ['8', '9', '10', '11', '12', 'W', 'W'],\n",
       "        ['15', '16', '17', '18', '19', 'W', 'W'],\n",
       "        ['22', '23', '24', '25', '26', 'W', 'E']],\n",
       "\n",
       "       [['S', '2', '3', '4', '5', 'W', 'W'],\n",
       "        ['8', '9', '10', '11', '12', 'W', 'W'],\n",
       "        ['15', '16', '17', '18', '19', 'W', 'W'],\n",
       "        ['22', '23', '24', '25', '26', 'W', 'E']],\n",
       "\n",
       "       [['S', '2', '3', '4', '5', 'W', 'W'],\n",
       "        ['8', '9', '10', '11', '12', 'W', 'W'],\n",
       "        ['15', '16', '17', '18', '19', 'W', 'W'],\n",
       "        ['22', '23', '24', '25', '26', 'W', 'E']],\n",
       "\n",
       "       [['S', '2', '3', '4', '5', 'W', 'W'],\n",
       "        ['8', '9', '10', '11', '12', 'W', 'W'],\n",
       "        ['F', '16', '17', '18', '19', 'W', 'F'],\n",
       "        ['22', '23', '24', '25', '26', 'W', 'E']],\n",
       "\n",
       "       [['F', '2', '3', '4', '5', 'W', 'W'],\n",
       "        ['8', '9', '10', '11', '12', 'W', 'W'],\n",
       "        ['15', '16', '17', '18', '19', 'W', 'W'],\n",
       "        ['22', '23', '24', '25', '26', 'W', 'E']],\n",
       "\n",
       "       [['S', '2', '3', '4', '5', 'W', 'W'],\n",
       "        ['8', '9', '10', '11', '12', 'W', 'W'],\n",
       "        ['15', '16', '17', '18', '19', 'W', 'W'],\n",
       "        ['22', '23', '24', '25', '26', 'W', 'E']],\n",
       "\n",
       "       [['S', '2', '3', '4', '5', 'W', 'W'],\n",
       "        ['8', '9', '10', '11', '12', 'W', 'W'],\n",
       "        ['15', '16', '17', '18', '19', 'W', 'W'],\n",
       "        ['22', '23', '24', '25', '26', 'W', 'E']],\n",
       "\n",
       "       [['S', '2', '3', '4', '5', 'W', 'W'],\n",
       "        ['8', '9', '10', '11', '12', 'W', 'W'],\n",
       "        ['15', '16', '17', '18', '19', 'W', 'W'],\n",
       "        ['22', '23', '24', '25', '26', 'W', 'E']],\n",
       "\n",
       "       [['S', '2', '3', '4', '5', 'W', 'F'],\n",
       "        ['8', '9', '10', '11', '12', 'W', 'W'],\n",
       "        ['15', '16', '17', '18', '19', 'W', 'W'],\n",
       "        ['22', '23', '24', '25', '26', 'W', 'E']],\n",
       "\n",
       "       [['S', '2', '3', '4', '5', 'W', 'W'],\n",
       "        ['8', '9', '10', '11', 'F', 'W', 'W'],\n",
       "        ['15', '16', '17', '18', '19', 'W', 'W'],\n",
       "        ['22', '23', '24', '25', '26', 'W', 'E']],\n",
       "\n",
       "       [['S', 'F', '3', '4', '5', 'W', 'W'],\n",
       "        ['8', '9', '10', '11', '12', 'W', 'W'],\n",
       "        ['F', '16', '17', '18', '19', 'W', 'W'],\n",
       "        ['22', '23', '24', '25', '26', 'W', 'E']],\n",
       "\n",
       "       [['S', '2', '3', '4', '5', 'W', 'W'],\n",
       "        ['8', '9', '10', '11', '12', 'W', 'W'],\n",
       "        ['15', '16', '17', '18', '19', 'W', 'W'],\n",
       "        ['22', '23', '24', 'F', '26', 'W', 'E']]], dtype='<U21')"
      ]
     },
     "execution_count": 31,
     "metadata": {},
     "output_type": "execute_result"
    }
   ],
   "source": [
    "mes = [1, 4, 4, 5, 9, 10, 11, 11, 12]\n",
    "dia = [1, 15, 21, 1, 7, 12, 2, 15, 25]\n",
    "# dia//7\n",
    "# np.array(dia)//7\n",
    "# semana = np.array(dia)//7\n",
    "semana = (np.array(dia)-1)//7\n",
    "# (np.array(dia))%7 \n",
    "dia_semana = (np.array(dia)-1)%7\n",
    "# calendar[mes, semana, dia]\n",
    "mes = np.array(mes) - 1\n",
    "calendar[mes, semana, dia_semana] = 'F'\n",
    "calendar"
   ]
  }
 ],
 "metadata": {
  "colab": {
   "collapsed_sections": [],
   "name": "Numpy_EX.ipynb",
   "provenance": [],
   "toc_visible": true
  },
  "kernelspec": {
   "display_name": "Python 3",
   "name": "python3"
  },
  "language_info": {
   "name": "python"
  }
 },
 "nbformat": 4,
 "nbformat_minor": 0
}
