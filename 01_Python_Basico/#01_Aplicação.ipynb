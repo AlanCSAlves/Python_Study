{
  "nbformat": 4,
  "nbformat_minor": 0,
  "metadata": {
    "colab": {
      "provenance": [],
      "collapsed_sections": [
        "VpCZV56MHjWG",
        "DX1HruroHr3u",
        "cBJ7AWFvHyy1",
        "V3WaHXuIH2iW",
        "oARNyrS7H232",
        "bwFLgdPSH3NO",
        "KO9534hnH399",
        "ndQ1mTiSH4SW",
        "mnJDZ5SBH4lO",
        "AS6WRpV2H42e"
      ],
      "toc_visible": true
    },
    "kernelspec": {
      "name": "python3",
      "display_name": "Python 3"
    },
    "language_info": {
      "name": "python"
    }
  },
  "cells": [
    {
      "cell_type": "markdown",
      "source": [
        "# **Aplicando Conceitos de Python**"
      ],
      "metadata": {
        "id": "8FuZb6rQE1_K"
      }
    },
    {
      "cell_type": "markdown",
      "source": [
        "# Exercício 01 - Operações Simples\n"
      ],
      "metadata": {
        "id": "VpCZV56MHjWG"
      }
    },
    {
      "cell_type": "markdown",
      "source": [
        "## Tipagem"
      ],
      "metadata": {
        "id": "bnE3tphv6pmY"
      }
    },
    {
      "cell_type": "code",
      "execution_count": 1,
      "metadata": {
        "colab": {
          "base_uri": "https://localhost:8080/",
          "height": 0
        },
        "id": "N_ZQYHfBEIe0",
        "outputId": "bd6f1b8d-c2ec-4da7-a21b-6cc66d1f4d5a"
      },
      "outputs": [
        {
          "output_type": "stream",
          "name": "stdout",
          "text": [
            "<class 'int'>\n"
          ]
        }
      ],
      "source": [
        "x = 5\n",
        "print(type(x))"
      ]
    },
    {
      "cell_type": "code",
      "source": [
        "x = 5.0\n",
        "print(type(x))"
      ],
      "metadata": {
        "colab": {
          "base_uri": "https://localhost:8080/",
          "height": 0
        },
        "id": "0ZsJXjPZFIZC",
        "outputId": "e9000471-45e8-4058-f530-b840c903ec3a"
      },
      "execution_count": 2,
      "outputs": [
        {
          "output_type": "stream",
          "name": "stdout",
          "text": [
            "<class 'float'>\n"
          ]
        }
      ]
    },
    {
      "cell_type": "code",
      "source": [
        "x = 5.5\n",
        "print(type(x))"
      ],
      "metadata": {
        "colab": {
          "base_uri": "https://localhost:8080/",
          "height": 0
        },
        "id": "3nsWGmBIFISR",
        "outputId": "45731924-ea5c-49d5-c33d-4b22a00d8a3a"
      },
      "execution_count": 3,
      "outputs": [
        {
          "output_type": "stream",
          "name": "stdout",
          "text": [
            "<class 'float'>\n"
          ]
        }
      ]
    },
    {
      "cell_type": "code",
      "source": [
        "x = 'Teste'\n",
        "print(type(x))"
      ],
      "metadata": {
        "colab": {
          "base_uri": "https://localhost:8080/",
          "height": 0
        },
        "id": "YTfFPquZFIIB",
        "outputId": "8a2768e9-bd4a-43f3-f23e-01679e2940d9"
      },
      "execution_count": 5,
      "outputs": [
        {
          "output_type": "stream",
          "name": "stdout",
          "text": [
            "<class 'str'>\n"
          ]
        }
      ]
    },
    {
      "cell_type": "code",
      "source": [
        "x = 1000000000\n",
        "print(type(x))"
      ],
      "metadata": {
        "colab": {
          "base_uri": "https://localhost:8080/",
          "height": 0
        },
        "id": "A6opSY6WFhlJ",
        "outputId": "29f8ee04-e084-413b-8049-4df46410f9de"
      },
      "execution_count": 26,
      "outputs": [
        {
          "output_type": "stream",
          "name": "stdout",
          "text": [
            "<class 'int'>\n"
          ]
        }
      ]
    },
    {
      "cell_type": "code",
      "source": [
        "# Exemplo de formato desconhecido\n",
        "\n",
        "x = ½\n",
        "print(type(x))"
      ],
      "metadata": {
        "colab": {
          "base_uri": "https://localhost:8080/",
          "height": 106
        },
        "id": "1IZBqJfMFXiI",
        "outputId": "9b19683c-0c6d-4bac-bfda-792dace4d00f"
      },
      "execution_count": 8,
      "outputs": [
        {
          "output_type": "error",
          "ename": "SyntaxError",
          "evalue": "invalid character '½' (U+00BD) (<ipython-input-8-dcb689fe895e>, line 1)",
          "traceback": [
            "\u001b[0;36m  File \u001b[0;32m\"<ipython-input-8-dcb689fe895e>\"\u001b[0;36m, line \u001b[0;32m1\u001b[0m\n\u001b[0;31m    x = ½\u001b[0m\n\u001b[0m        ^\u001b[0m\n\u001b[0;31mSyntaxError\u001b[0m\u001b[0;31m:\u001b[0m invalid character '½' (U+00BD)\n"
          ]
        }
      ]
    },
    {
      "cell_type": "markdown",
      "source": [
        "## Alguns Operadores e Inputs"
      ],
      "metadata": {
        "id": "HKk0MKIX7gQF"
      }
    },
    {
      "cell_type": "code",
      "source": [
        "# Multiplicação\n",
        "\n",
        "x = 0.5 * 2\n",
        "print(type(x))"
      ],
      "metadata": {
        "colab": {
          "base_uri": "https://localhost:8080/",
          "height": 0
        },
        "id": "pME1B8MQFXfQ",
        "outputId": "a595b64a-6619-4829-c528-f82940790655"
      },
      "execution_count": 23,
      "outputs": [
        {
          "output_type": "stream",
          "name": "stdout",
          "text": [
            "<class 'float'>\n"
          ]
        }
      ]
    },
    {
      "cell_type": "code",
      "source": [
        "# Exponenciação\n",
        "\n",
        "x = 4 ** 2\n",
        "print(type(x))"
      ],
      "metadata": {
        "colab": {
          "base_uri": "https://localhost:8080/",
          "height": 0
        },
        "id": "XJD0_9YqFWvA",
        "outputId": "e189bbcd-8d2e-47fd-e2db-31fdf373f716"
      },
      "execution_count": 24,
      "outputs": [
        {
          "output_type": "stream",
          "name": "stdout",
          "text": [
            "<class 'int'>\n"
          ]
        }
      ]
    },
    {
      "cell_type": "code",
      "source": [
        "# Adição\n",
        "\n",
        "x = 2 + 4\n",
        "print(type(x))"
      ],
      "metadata": {
        "colab": {
          "base_uri": "https://localhost:8080/",
          "height": 0
        },
        "id": "tmF-PE1EFhUp",
        "outputId": "722582d9-7c13-45ee-9ce6-845065193dc9"
      },
      "execution_count": 25,
      "outputs": [
        {
          "output_type": "stream",
          "name": "stdout",
          "text": [
            "<class 'int'>\n"
          ]
        }
      ]
    },
    {
      "cell_type": "code",
      "source": [
        "# Subtração\n",
        "\n",
        "x = 4 - 2\n",
        "print(type(x))"
      ],
      "metadata": {
        "colab": {
          "base_uri": "https://localhost:8080/",
          "height": 0
        },
        "id": "Tfq7q4hL_pES",
        "outputId": "4544327c-0e85-42f8-fc8c-573a2365e7ed"
      },
      "execution_count": 47,
      "outputs": [
        {
          "output_type": "stream",
          "name": "stdout",
          "text": [
            "<class 'int'>\n"
          ]
        }
      ]
    },
    {
      "cell_type": "code",
      "source": [
        "x = int(input('Insira um número inteiro: '))\n",
        "print(f\"Você digitou o número {x}\")\n",
        "print(type(x))"
      ],
      "metadata": {
        "colab": {
          "base_uri": "https://localhost:8080/",
          "height": 0
        },
        "id": "MPn85eLbFuZS",
        "outputId": "2b0e259e-3bad-4e9b-8d82-c54afb42cf87"
      },
      "execution_count": 43,
      "outputs": [
        {
          "output_type": "stream",
          "name": "stdout",
          "text": [
            "Insira um número inteiro: 10\n",
            "Você digitou o número 10\n",
            "<class 'int'>\n"
          ]
        }
      ]
    },
    {
      "cell_type": "code",
      "source": [
        "x = float(input('Insira um número float: '))\n",
        "print(f\"Você digitou o número {x}\")\n",
        "print(type(x))"
      ],
      "metadata": {
        "colab": {
          "base_uri": "https://localhost:8080/",
          "height": 0
        },
        "id": "kWK8eOPKG218",
        "outputId": "61fe3eee-0494-4520-e00d-8535015bb28f"
      },
      "execution_count": 44,
      "outputs": [
        {
          "output_type": "stream",
          "name": "stdout",
          "text": [
            "Insira um número float: 5.2\n",
            "Você digitou o número 5.2\n",
            "<class 'float'>\n"
          ]
        }
      ]
    },
    {
      "cell_type": "code",
      "source": [
        "x = str(input('Insira um dado: '))\n",
        "print(f\"Você inseriu {x}\")\n",
        "print(type(x))"
      ],
      "metadata": {
        "colab": {
          "base_uri": "https://localhost:8080/",
          "height": 0
        },
        "id": "9zRqOcTYHAY8",
        "outputId": "e9d3aa5c-1c8a-43f3-f3b0-97d980f901ef"
      },
      "execution_count": 45,
      "outputs": [
        {
          "output_type": "stream",
          "name": "stdout",
          "text": [
            "Insira um dado: 10\n",
            "Você inseriu 10\n",
            "<class 'str'>\n"
          ]
        }
      ]
    },
    {
      "cell_type": "code",
      "source": [
        "x = input('Insira um dado: ')\n",
        "\n",
        "print(type(x))"
      ],
      "metadata": {
        "colab": {
          "base_uri": "https://localhost:8080/",
          "height": 0
        },
        "id": "m3Qp3aiOHRo0",
        "outputId": "4e473753-1f42-414c-e7a3-a65aa0cfa065"
      },
      "execution_count": 46,
      "outputs": [
        {
          "output_type": "stream",
          "name": "stdout",
          "text": [
            "Insira um dado: 52\n",
            "<class 'str'>\n"
          ]
        }
      ]
    },
    {
      "cell_type": "markdown",
      "source": [
        "# Exercício 02 - Tratando informações Input do Usuário e Fazendo contas com variáveis\n"
      ],
      "metadata": {
        "id": "DX1HruroHr3u"
      }
    },
    {
      "cell_type": "code",
      "source": [
        "# É possível multiplicarmos str:\n",
        "\n",
        "print('-'*50)\n",
        "print('-'*50)\n",
        "print(' '*19,'DS05 - DNC')\n",
        "print('-'*50)\n",
        "print('-'*50)\n",
        "\n"
      ],
      "metadata": {
        "colab": {
          "base_uri": "https://localhost:8080/",
          "height": 0
        },
        "id": "U1i558hrIJgm",
        "outputId": "d3118f7a-e030-4352-fdb3-d579e1f0cd52"
      },
      "execution_count": 48,
      "outputs": [
        {
          "output_type": "stream",
          "name": "stdout",
          "text": [
            "--------------------------------------------------\n",
            "--------------------------------------------------\n",
            "                    DS05 - DNC\n",
            "--------------------------------------------------\n",
            "--------------------------------------------------\n"
          ]
        }
      ]
    },
    {
      "cell_type": "code",
      "source": [
        "#Somando e Calculando com variáveis\n",
        "\n",
        "salario_cientista_de_dados = 10000.00\n",
        "parcela_bmw = 2500.45\n",
        "parcela_apartamento = 3500.50\n",
        "veterinario_romeuzinho = 500.00\n",
        "luz = 100.80\n",
        "agua = 80.35\n",
        "condominio = 800.44\n",
        "gas = 150.65\n",
        "\n",
        "contas = (parcela_bmw + parcela_apartamento + veterinario_romeuzinho + luz + agua + condominio + gas)\n",
        "poupanca = salario_cientista_de_dados - contas\n",
        "\n",
        "print(f'O seu salário é de R$ {salario_cientista_de_dados:1.0f}')\n",
        "print()\n",
        "print(f'O valor total das suas contas é de R$ {contas:.2f}')\n",
        "print()\n",
        "print(f'Te sobra R$ {poupanca:.2f} para investir')\n"
      ],
      "metadata": {
        "colab": {
          "base_uri": "https://localhost:8080/",
          "height": 0
        },
        "id": "fLxCOn9_I0z4",
        "outputId": "63032ac9-f5c1-459f-b855-06e9fe6dcceb"
      },
      "execution_count": 49,
      "outputs": [
        {
          "output_type": "stream",
          "name": "stdout",
          "text": [
            "O seu salário é de R$ 10000\n",
            "\n",
            "O valor total das suas contas é de R$ 7633.19\n",
            "\n",
            "Te sobra R$ 2366.81 para investir\n"
          ]
        }
      ]
    },
    {
      "cell_type": "code",
      "source": [
        "# Aplicando Inputs e If's de acordo com as informações inseridas\n",
        "\n",
        "print('-'*50)\n",
        "print('-'*50)\n",
        "print(' '*16,'Bem-vindo à DNC')\n",
        "print('-'*50)\n",
        "print('-'*50)\n",
        "print()\n",
        "print('Temos os seguintes cursos:')\n",
        "print()\n",
        "print('1. Formação em dados')\n",
        "print('2. Formação em projetos')\n",
        "print('3. Formação em marketing')\n",
        "print('4. Formação em produto')\n",
        "print('5. Formação em tecnologia')\n",
        "print('-'*50)\n",
        "\n",
        "# Aplicando listas\n",
        "\n",
        "cursos = ['0','Formação em dados',\n",
        "          'Formação em projetos',\n",
        "          'Formação em marketing',\n",
        "          'Formação em produto',\n",
        "          'Formação em tecnologia',]\n",
        "\n",
        "valores = [0,20000.00,15000.00,13000.00,18000.00,19000.00]\n",
        "\n",
        "op_curso = int(input('Qual curso você quer escolher (de 1 à 5) ? '))\n",
        "\n",
        "print('-'*50)\n",
        "\n",
        "if op_curso != 1 and op_curso != 2 and op_curso != 3 and op_curso != 4 and op_curso != 5:\n",
        "\n",
        "  print(\"Valor inválido. Digite um valor correspondente a um curso de nossas formações:\")\n",
        "  print()\n",
        "  print(\"1 - Formação em dados\")\n",
        "  print(\"2 - Formação em projetos\")\n",
        "  print(\"3 - Formação em marketing\")\n",
        "  print(\"4 - Formação em produto\")\n",
        "  print(\"5 - Formação em tecnologia\")\n",
        "\n",
        "else:\n",
        "\n",
        "# Buscando o índice na opção da lista de acordo com o curso escolhido\n",
        "\n",
        "  esc = cursos[op_curso]\n",
        "  print(f'Você escolheu o curso {esc}, o valor deste curso é de R$ {valores[op_curso]} que começará no próximo mês')\n"
      ],
      "metadata": {
        "colab": {
          "base_uri": "https://localhost:8080/",
          "height": 0
        },
        "id": "pYieR_WjK0hF",
        "outputId": "3e056a46-8c3c-4085-d501-dd6b00977857"
      },
      "execution_count": 68,
      "outputs": [
        {
          "output_type": "stream",
          "name": "stdout",
          "text": [
            "--------------------------------------------------\n",
            "--------------------------------------------------\n",
            "                 Bem-vindo à DNC\n",
            "--------------------------------------------------\n",
            "--------------------------------------------------\n",
            "\n",
            "Temos os seguintes cursos:\n",
            "\n",
            "1. Formação em dados\n",
            "2. Formação em projetos\n",
            "3. Formação em marketing\n",
            "4. Formação em produto\n",
            "5. Formação em tecnologia\n",
            "--------------------------------------------------\n",
            "Qual curso você quer escolher (de 1 à 5) ? 5\n",
            "--------------------------------------------------\n",
            "Você escolheu o curso Formação em tecnologia, o valor deste curso é de R$ 19000.0 que começará no próximo mês\n"
          ]
        }
      ]
    },
    {
      "cell_type": "markdown",
      "source": [
        "# Exercício 03 - Aplicando uma mescla dos conceitos juntos"
      ],
      "metadata": {
        "id": "oARNyrS7H232"
      }
    },
    {
      "cell_type": "code",
      "source": [
        "# Criando as Listas Auxiliares:\n",
        "\n",
        "cursos = ['Formação em Dados',\n",
        "          'Formação em Projetos',\n",
        "          'Formação em Marketing',\n",
        "          'Formação em Produto',\n",
        "          'Formação em Tecnologia',]\n",
        "\n",
        "valores = [20000.00,15000.00,13000.00,18000.00,19000.00]\n",
        "\n",
        "# Printando as informações com o for percorrendo em cada uma das listas:\n",
        "\n",
        "print(\"Os cursos e seus respectivos valores são:\")\n",
        "print()\n",
        "\n",
        "for c,v in zip(cursos,valores):\n",
        "  print(f'{c} - Valor de R$ {v:.2f}')\n",
        "\n",
        "print()\n",
        "print(' '*16,'CONTABILIZANDO AS VENDAS')\n",
        "print('-'*50)\n",
        "\n",
        "# Criada a lista auxiliar de vendas para acrescentar os valores do for\n",
        "# Aplicando um for para obter o total de venda de cada Curso:\n",
        "# len() é usado para percorrer os valores da lista, variável, etc\n",
        "\n",
        "vendas = []\n",
        "\n",
        "for v in range(0,len(cursos)):\n",
        "  vaux = int(input(f'Insira o total de vendas para o curso {cursos[v]}: '))\n",
        "  vendas.append(vaux)\n",
        "\n",
        "print('-'*50)\n",
        "\n",
        "\n",
        "# Criada a variável vtotal para acrescentar o valor total de vendas, conforme o for executado\n",
        "# Aplicando um for para obter o total de venda de cada Curso:\n",
        "# len() é usado para percorrer os valores da lista, variável, etc\n",
        "\n",
        "vtotal = 0\n",
        "\n",
        "for c,v1,v2 in zip(cursos, vendas, valores):\n",
        "    print(f'{c:<23} - {v1:<1} - R$ {v2:.2f}. Valor total = {v1 * v2:.2f}')\n",
        "    vtotal += (v1 * v2)\n",
        "\n",
        "print('-'*50)\n",
        "\n",
        "# Aplicando o if para fazer um comparativo entre as informações\n",
        "\n",
        "if vtotal >= 1000000:\n",
        "  print(f'Vendas Gerais: {sum(vendas)}')\n",
        "  print(f'Valor total vendido: R$ {vtotal:.2f}')\n",
        "  print(f\"Parabéns!!! A DNC bateu a meta do mês\")\n",
        "\n",
        "else:\n",
        "\n",
        "  print(f'Vendas Gerais: {sum(vendas)}')\n",
        "  print(f'Valor Total em Vendas: R$ {vtotal:.2f}')\n",
        "  print(f\"Esse mês não batemos a meta, porém mês que vem vamos vir mais forte pra recuperar!!!\")\n",
        "\n"
      ],
      "metadata": {
        "colab": {
          "base_uri": "https://localhost:8080/"
        },
        "id": "SRNNTDTCQd33",
        "outputId": "3a12d0ba-c6a4-4136-ae8a-72d4aa24cebf"
      },
      "execution_count": 91,
      "outputs": [
        {
          "output_type": "stream",
          "name": "stdout",
          "text": [
            "Os cursos e seus respectivos valores são:\n",
            "\n",
            "Formação em Dados - Valor de R$ 20000.00\n",
            "Formação em Projetos - Valor de R$ 15000.00\n",
            "Formação em Marketing - Valor de R$ 13000.00\n",
            "Formação em Produto - Valor de R$ 18000.00\n",
            "Formação em Tecnologia - Valor de R$ 19000.00\n",
            "\n",
            "                 CONTABILIZANDO AS VENDAS\n",
            "--------------------------------------------------\n",
            "Insira o total de vendas para o curso Formação em Dados: 1\n",
            "Insira o total de vendas para o curso Formação em Projetos: 1\n",
            "Insira o total de vendas para o curso Formação em Marketing: 1\n",
            "Insira o total de vendas para o curso Formação em Produto: 1\n",
            "Insira o total de vendas para o curso Formação em Tecnologia: 1\n",
            "--------------------------------------------------\n",
            "Formação em Dados       - 1 - R$ 20000.00. Valor total = 20000.00\n",
            "Formação em Projetos    - 1 - R$ 15000.00. Valor total = 15000.00\n",
            "Formação em Marketing   - 1 - R$ 13000.00. Valor total = 13000.00\n",
            "Formação em Produto     - 1 - R$ 18000.00. Valor total = 18000.00\n",
            "Formação em Tecnologia  - 1 - R$ 19000.00. Valor total = 19000.00\n",
            "--------------------------------------------------\n",
            "Vendas Gerais: 5\n",
            "Valor Total em Vendas: R$ 85000.00\n",
            "Esse mês não batemos a meta, porém mês que vem vamos vir mais forte pra recuperar!!!\n"
          ]
        }
      ]
    },
    {
      "cell_type": "markdown",
      "source": [
        "# Exercício 04 - Aplicando For com Input do Usuário\n"
      ],
      "metadata": {
        "id": "bwFLgdPSH3NO"
      }
    },
    {
      "cell_type": "code",
      "source": [
        "# Aplicando o For de acordo com o input do usuário\n",
        "\n",
        "seq = int(input(\"Insira o número: \"))\n",
        "print()\n",
        "\n",
        "soma = 0\n",
        "for i in range(1,seq+1):\n",
        "  soma += i\n",
        "  print(f'Código: {soma}')\n",
        ""
      ],
      "metadata": {
        "colab": {
          "base_uri": "https://localhost:8080/"
        },
        "id": "buZVC3NvZGXj",
        "outputId": "b8d3e5b5-8f6f-46dc-e67a-0edf5810c0ec"
      },
      "execution_count": 104,
      "outputs": [
        {
          "output_type": "stream",
          "name": "stdout",
          "text": [
            "Insira o número: 5\n",
            "\n",
            "Código: 1\n",
            "Código: 3\n",
            "Código: 6\n",
            "Código: 10\n",
            "Código: 15\n"
          ]
        }
      ]
    },
    {
      "cell_type": "markdown",
      "source": [
        "# Exercício 05 - Aplicando While com Input do Usuário"
      ],
      "metadata": {
        "id": "KO9534hnH399"
      }
    },
    {
      "cell_type": "code",
      "source": [
        "# Aplicando o While com um input do usuário\n",
        "\n",
        "\n",
        "while True:\n",
        "  f = input('Deseja trocar de música: [S/N] ')\n",
        "  f = f.upper() # Convertendo a variável para maiuscula\n",
        "\n",
        "  if f == 'S':\n",
        "    print('*Musica Mudou*')\n",
        "  if f == 'N':\n",
        "    print(\"*Música Repete*\")\n",
        "\n",
        "  if f != \"S\" and f != \"N\":\n",
        "    break  # Aplicando o break para parar o Sistema\n",
        "print()\n",
        "print('*Opção diferente de Sim e Não para o Sistema*')\n",
        "\n",
        "\n"
      ],
      "metadata": {
        "colab": {
          "base_uri": "https://localhost:8080/"
        },
        "id": "opQLbaz3aKGr",
        "outputId": "97ec6e3c-c3ee-4c50-e474-c1ccc6e976d0"
      },
      "execution_count": 116,
      "outputs": [
        {
          "output_type": "stream",
          "name": "stdout",
          "text": [
            "Deseja trocar de música: [S/N] s\n",
            "*Musica Mudou*\n",
            "Deseja trocar de música: [S/N] d\n",
            "\n",
            "*Opção diferente de Sim e Não para o Sistema*\n"
          ]
        }
      ]
    },
    {
      "cell_type": "markdown",
      "source": [
        "# Exercício 06 - Acrescentando valores em uma lista utilizando o for (range conhecido)\n"
      ],
      "metadata": {
        "id": "ndQ1mTiSH4SW"
      }
    },
    {
      "cell_type": "code",
      "source": [
        "alunos = []\n",
        "\n",
        "for a in range(1,3+1): # range de 3 alunos\n",
        "  aux = input('Insira o nome: ')\n",
        "  alunos.append(aux)\n",
        "print()\n",
        "\n",
        "for i in alunos:\n",
        "  print(f'Parabens {i} pelo seu trabalho duro!')\n"
      ],
      "metadata": {
        "colab": {
          "base_uri": "https://localhost:8080/"
        },
        "id": "ZmwpRGitct8Y",
        "outputId": "66b1218d-4d76-4dbc-f640-0df31f957730"
      },
      "execution_count": 117,
      "outputs": [
        {
          "output_type": "stream",
          "name": "stdout",
          "text": [
            "Insira o nome: Alan\n",
            "Insira o nome: Carlos\n",
            "Insira o nome: Leandro\n",
            "\n",
            "Parabens Alan pelo seu trabalho duro!\n",
            "Parabens Carlos pelo seu trabalho duro!\n",
            "Parabens Leandro pelo seu trabalho duro!\n"
          ]
        }
      ]
    },
    {
      "cell_type": "markdown",
      "source": [
        "# Exercício 07 - Acrescentando valores em uma lista utilizando o while (range desconhecido)"
      ],
      "metadata": {
        "id": "mnJDZ5SBH4lO"
      }
    },
    {
      "cell_type": "code",
      "source": [
        "moedas = []\n",
        "\n",
        "while True:\n",
        "  aux = int(input('Insira a quantidade de moedas (valor inteiro): '))\n",
        "  moedas.append(aux)\n",
        "  f = input('Deseja continuar? [S/N] ')\n",
        "  f = f.upper()\n",
        "\n",
        "  if f == 'N':\n",
        "    break\n",
        "\n",
        "print()\n",
        "print(\"*\"*50)\n",
        "print(f'Você possui {len(moedas)} moedas')\n",
        "print(f'Você possui R$ {sum(moedas)/100:.2f} reais')\n"
      ],
      "metadata": {
        "colab": {
          "base_uri": "https://localhost:8080/"
        },
        "id": "mfsfWRUad96b",
        "outputId": "05a1a0b4-5c78-445c-8d05-2fd92f8b39fd"
      },
      "execution_count": 122,
      "outputs": [
        {
          "output_type": "stream",
          "name": "stdout",
          "text": [
            "Insira a quantidade de moedas (valor inteiro): 1\n",
            "Deseja continuar? [S/N] s\n",
            "Insira a quantidade de moedas (valor inteiro): 10\n",
            "Deseja continuar? [S/N] s\n",
            "Insira a quantidade de moedas (valor inteiro): 100\n",
            "Deseja continuar? [S/N] s\n",
            "Insira a quantidade de moedas (valor inteiro): 1000\n",
            "Deseja continuar? [S/N] s\n",
            "Insira a quantidade de moedas (valor inteiro): 10000\n",
            "Deseja continuar? [S/N] n\n",
            "\n",
            "**************************************************\n",
            "Você possui 5 moedas\n",
            "Você possui R$ 111.11 reais\n"
          ]
        }
      ]
    },
    {
      "cell_type": "markdown",
      "source": [
        "# Exercício 08 - Criando uma lista de cadastro com um dicionário, utilizando o while para criar um ciclo"
      ],
      "metadata": {
        "id": "AS6WRpV2H42e"
      }
    },
    {
      "cell_type": "code",
      "source": [
        "cad = {} # criando um dicionário vazio\n",
        "pessoas = []\n",
        "\n",
        "while True:\n",
        "  cad['nome'] = input(\"Digite o nome a ser cadastrado: \")\n",
        "  cad['rid'] = input(\"Digite o RID a ser cadastrado: \")\n",
        "  cad['idade'] = input(\"Digite a idade a ser cadastrada: \")\n",
        "  cad['cidade'] = input(\"Digite a cidade a ser cadastrada: \")\n",
        "  cad['cargo'] = input(\"Digite o cargo a ser cadastrado: \")\n",
        "\n",
        "  pessoas.append(cad.copy()) # copia a relação do dicionário para uma lista\n",
        "\n",
        "  f = input(\"Deseja continuar? [s/n]: \" )\n",
        "  if f == \"n\":\n",
        "    break\n",
        "print()\n",
        "print(\"Dados cadastrados com sucesso!\")\n",
        "\n",
        "print(cad)"
      ],
      "metadata": {
        "colab": {
          "base_uri": "https://localhost:8080/"
        },
        "id": "xu6U21P_gKAO",
        "outputId": "ecc1976e-7713-4644-f1d4-2eaf650db4b7"
      },
      "execution_count": 124,
      "outputs": [
        {
          "output_type": "stream",
          "name": "stdout",
          "text": [
            "Digite o nome a ser cadastrado: Alan\n",
            "Digite o RID a ser cadastrado: 35201\n",
            "Digite a idade a ser cadastrada: 31\n",
            "Digite a cidade a ser cadastrada: São Paulo\n",
            "Digite o cargo a ser cadastrado: Analista de Dados\n",
            "Deseja continuar? [s/n]: n\n",
            "\n",
            "Dados cadastrados com sucesso!\n",
            "{'nome': 'Alan', 'rid': '35201', 'idade': '31', 'cidade': 'São Paulo', 'cargo': 'Analista de Dados'}\n"
          ]
        }
      ]
    },
    {
      "cell_type": "markdown",
      "source": [
        "# Exercício 09 - Criando uma função utilizando o def"
      ],
      "metadata": {
        "id": "SqWWIvbRH5Hu"
      }
    },
    {
      "cell_type": "code",
      "source": [
        "def vnotas():\n",
        "  notas = []\n",
        "  while True:\n",
        "    aux = float(input('Insira o valor da nota: '))\n",
        "    notas.append(aux)\n",
        "    f = input('Deseja continuar? [S/N] ')\n",
        "    if f == 'n':\n",
        "      print(\"*\"*60)\n",
        "      print(f'Você possui {len(notas)} notas')\n",
        "      print(f'Você possui R$ {sum(notas):.2f} reais')\n",
        "      break"
      ],
      "metadata": {
        "id": "ZAkVTzjFiE8T"
      },
      "execution_count": 125,
      "outputs": []
    },
    {
      "cell_type": "code",
      "source": [
        "vnotas()"
      ],
      "metadata": {
        "colab": {
          "base_uri": "https://localhost:8080/"
        },
        "id": "olT3bJYhjAQN",
        "outputId": "95df8dfe-67f9-4b06-d9e8-85794dd50ba5"
      },
      "execution_count": 126,
      "outputs": [
        {
          "output_type": "stream",
          "name": "stdout",
          "text": [
            "Insira o valor da nota: 10\n",
            "Deseja continuar? [S/N] s\n",
            "Insira o valor da nota: 10\n",
            "Deseja continuar? [S/N] s\n",
            "Insira o valor da nota: 9\n",
            "Deseja continuar? [S/N] n\n",
            "************************************************************\n",
            "Você possui 3 notas\n",
            "Você possui R$ 29.00 reais\n"
          ]
        }
      ]
    }
  ]
}