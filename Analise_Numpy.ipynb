{
 "cells": [
  {
   "cell_type": "markdown",
   "metadata": {
    "id": "PMOvzOf9yfpb"
   },
   "source": [
    "## TREINANDO A BIBLIOTECA NUMPY"
   ]
  },
  {
   "cell_type": "markdown",
   "metadata": {},
   "source": [
    "# Informações Teóricas"
   ]
  },
  {
   "cell_type": "markdown",
   "metadata": {},
   "source": [
    "Principalmente utilizada para tratamento de Matrizes, a biblioteca é mais rápida e eficiente do que a utilização das listas python convencionais"
   ]
  },
  {
   "cell_type": "markdown",
   "metadata": {},
   "source": [
    "Puxando e Instalando a biblioteca"
   ]
  },
  {
   "cell_type": "code",
   "execution_count": 2,
   "metadata": {},
   "outputs": [
    {
     "name": "stdout",
     "output_type": "stream",
     "text": [
      "Requirement already satisfied: numpy in c:\\users\\alan alves\\appdata\\local\\packages\\pythonsoftwarefoundation.python.3.11_qbz5n2kfra8p0\\localcache\\local-packages\\python311\\site-packages (2.2.2)\n"
     ]
    },
    {
     "name": "stderr",
     "output_type": "stream",
     "text": [
      "\n",
      "[notice] A new release of pip is available: 24.0 -> 25.0\n",
      "[notice] To update, run: C:\\Users\\Alan Alves\\AppData\\Local\\Microsoft\\WindowsApps\\PythonSoftwareFoundation.Python.3.11_qbz5n2kfra8p0\\python.exe -m pip install --upgrade pip\n"
     ]
    }
   ],
   "source": [
    "#Instalando a biblioteca\n",
    "\n",
    "!pip install numpy"
   ]
  },
  {
   "cell_type": "code",
   "execution_count": null,
   "metadata": {
    "id": "siRG3ASgyudY"
   },
   "outputs": [],
   "source": [
    "#Importando a biblioteca\n",
    "import numpy as np\n",
    "\n",
    "#np.function"
   ]
  },
  {
   "cell_type": "markdown",
   "metadata": {},
   "source": [
    "Maneiras de criar arrays (matrizes)"
   ]
  },
  {
   "cell_type": "code",
   "execution_count": null,
   "metadata": {},
   "outputs": [],
   "source": [
    "#É possível criar de 3 maneiras específicas\n",
    "\n",
    "np.arange()\n",
    "\n",
    "np.array()\n",
    "\n",
    "np.linspace()"
   ]
  },
  {
   "cell_type": "markdown",
   "metadata": {},
   "source": [
    "Dimensões são chamadas de axes, o número de axes é chamado de rank"
   ]
  },
  {
   "cell_type": "code",
   "execution_count": null,
   "metadata": {},
   "outputs": [
    {
     "data": {
      "text/plain": [
       "(3,)"
      ]
     },
     "execution_count": 7,
     "metadata": {},
     "output_type": "execute_result"
    }
   ],
   "source": [
    "#Criando um matriz\n",
    "\n",
    "a = np.array([1,2,3])\n",
    "\n",
    "a.shape #Retorna o formato e tamanho do array em uma tupla, (linhas,colunas)\n",
    "a.ndim #Demonstra o número de dimensões"
   ]
  },
  {
   "cell_type": "code",
   "execution_count": null,
   "metadata": {},
   "outputs": [
    {
     "data": {
      "text/plain": [
       "(4,)"
      ]
     },
     "execution_count": 11,
     "metadata": {},
     "output_type": "execute_result"
    }
   ],
   "source": [
    "b = np.arange(1,5) #Cria um range de dentro dos valores especificados\n",
    "\n",
    "b.shape"
   ]
  },
  {
   "cell_type": "code",
   "execution_count": null,
   "metadata": {},
   "outputs": [
    {
     "name": "stdout",
     "output_type": "stream",
     "text": [
      "[ 0.          0.90909091  1.81818182  2.72727273  3.63636364  4.54545455\n",
      "  5.45454545  6.36363636  7.27272727  8.18181818  9.09090909 10.        ]\n"
     ]
    },
    {
     "data": {
      "text/plain": [
       "(12,)"
      ]
     },
     "execution_count": 21,
     "metadata": {},
     "output_type": "execute_result"
    }
   ],
   "source": [
    "c = np.linspace(0,10, num=12) #Criando uma matriz a partir de valores espaçados linearmente, de acordo com o solicitado\n",
    "\n",
    "print(c)\n",
    "c.shape"
   ]
  },
  {
   "cell_type": "markdown",
   "metadata": {},
   "source": [
    "Alterando o formato de uma matriz"
   ]
  },
  {
   "cell_type": "code",
   "execution_count": 37,
   "metadata": {},
   "outputs": [],
   "source": [
    "a = np.arange(0,100)"
   ]
  },
  {
   "cell_type": "code",
   "execution_count": 33,
   "metadata": {},
   "outputs": [],
   "source": [
    "b = a.reshape(10,10) #Altera o formato do array, concedendo colunas para a matriz, neste caso ficaria 10 por 10"
   ]
  },
  {
   "cell_type": "code",
   "execution_count": null,
   "metadata": {},
   "outputs": [
    {
     "name": "stdout",
     "output_type": "stream",
     "text": [
      "[ 0  1  2  3  4  5  6  7  8  9 10 11 12 13 14 15 16 17 18 19 20 21 22 23\n",
      " 24 25 26 27 28 29 30 31 32 33 34 35 36 37 38 39 40 41 42 43 44 45 46 47\n",
      " 48 49 50 51 52 53 54 55 56 57 58 59 60 61 62 63 64 65 66 67 68 69 70 71\n",
      " 72 73 74 75 76 77 78 79 80 81 82 83 84 85 86 87 88 89 90 91 92 93 94 95\n",
      " 96 97 98 99]\n",
      "(100,)\n",
      "1\n",
      "100\n"
     ]
    }
   ],
   "source": [
    "print(a) #Um array com somente uma dimensão, uma linha com todos os elementos\n",
    "print(a.shape)\n",
    "print(a.ndim)\n",
    "print(a.size) #Mostra o total de elementos da matriz\n"
   ]
  },
  {
   "cell_type": "code",
   "execution_count": 44,
   "metadata": {},
   "outputs": [
    {
     "name": "stdout",
     "output_type": "stream",
     "text": [
      "[[ 0  1  2  3  4  5  6  7  8  9]\n",
      " [10 11 12 13 14 15 16 17 18 19]\n",
      " [20 21 22 23 24 25 26 27 28 29]\n",
      " [30 31 32 33 34 35 36 37 38 39]\n",
      " [40 41 42 43 44 45 46 47 48 49]\n",
      " [50 51 52 53 54 55 56 57 58 59]\n",
      " [60 61 62 63 64 65 66 67 68 69]\n",
      " [70 71 72 73 74 75 76 77 78 79]\n",
      " [80 81 82 83 84 85 86 87 88 89]\n",
      " [90 91 92 93 94 95 96 97 98 99]]\n",
      "(10, 10)\n",
      "2\n",
      "100\n"
     ]
    }
   ],
   "source": [
    "print(b) #Um array com duas dimensões, linhas e colunas\n",
    "print(b.shape)\n",
    "print(b.ndim)\n",
    "print(b.size)"
   ]
  },
  {
   "cell_type": "markdown",
   "metadata": {},
   "source": [
    "Convertendo uma matriz de uma dimensão para uma de duas dimensões"
   ]
  },
  {
   "cell_type": "code",
   "execution_count": null,
   "metadata": {},
   "outputs": [
    {
     "name": "stdout",
     "output_type": "stream",
     "text": [
      "[[ 0  1  2  3  4  5  6  7  8  9 10 11 12 13 14 15 16 17 18 19 20 21 22 23\n",
      "  24 25 26 27 28 29 30 31 32 33 34 35 36 37 38 39 40 41 42 43 44 45 46 47\n",
      "  48 49 50 51 52 53 54 55 56 57 58 59 60 61 62 63 64 65 66 67 68 69 70 71\n",
      "  72 73 74 75 76 77 78 79 80 81 82 83 84 85 86 87 88 89 90 91 92 93 94 95\n",
      "  96 97 98 99]]\n",
      "(1, 100)\n"
     ]
    }
   ],
   "source": [
    "c = a[np.newaxis] #Acrescenta uma dimensão a uma matriz de somente um elemento\n",
    "\n",
    "print(c)\n",
    "print(c.shape)\n"
   ]
  },
  {
   "cell_type": "markdown",
   "metadata": {},
   "source": [
    "Ordenando, dividindo e juntando as matrizes"
   ]
  },
  {
   "cell_type": "code",
   "execution_count": 60,
   "metadata": {},
   "outputs": [
    {
     "name": "stdout",
     "output_type": "stream",
     "text": [
      "[ 8  9  6  3  4  7  1  2 10  5]\n",
      "8\n",
      "9\n",
      "6\n",
      "3\n",
      "4\n",
      "7\n",
      "1\n",
      "2\n",
      "10\n",
      "5\n"
     ]
    }
   ],
   "source": [
    "d = np.array([8,9,6,3,4,7,1,2,10,5])\n",
    "\n",
    "print(d)\n",
    "\n",
    "for elemento in d:\n",
    "    print(elemento)"
   ]
  },
  {
   "cell_type": "code",
   "execution_count": null,
   "metadata": {},
   "outputs": [
    {
     "name": "stdout",
     "output_type": "stream",
     "text": [
      "[ 1  2  3  4  5  6  7  8  9 10]\n",
      "1\n",
      "2\n",
      "3\n",
      "4\n",
      "5\n",
      "6\n",
      "7\n",
      "8\n",
      "9\n",
      "10\n"
     ]
    }
   ],
   "source": [
    "d2 = np.sort(d) #Ordenando o array\n",
    "\n",
    "print(d2)\n",
    "\n",
    "for elemento in d2:\n",
    "    print(elemento)"
   ]
  },
  {
   "cell_type": "code",
   "execution_count": null,
   "metadata": {},
   "outputs": [
    {
     "data": {
      "text/plain": [
       "array([[1, 2],\n",
       "       [3, 4]])"
      ]
     },
     "execution_count": 65,
     "metadata": {},
     "output_type": "execute_result"
    }
   ],
   "source": [
    "#Somando e subtraindo arrays\n",
    "\n",
    "data = np.array([[1,2],[3,4]]) #Array com arrays dentro\n",
    "\n",
    "data"
   ]
  },
  {
   "cell_type": "code",
   "execution_count": null,
   "metadata": {},
   "outputs": [
    {
     "data": {
      "text/plain": [
       "array([[1., 1.],\n",
       "       [1., 1.]])"
      ]
     },
     "execution_count": 67,
     "metadata": {},
     "output_type": "execute_result"
    }
   ],
   "source": [
    "ones = np.ones([2,2]) #Criando array com o valor 1, especificando elementos\n",
    "\n",
    "ones"
   ]
  },
  {
   "cell_type": "code",
   "execution_count": null,
   "metadata": {},
   "outputs": [
    {
     "data": {
      "text/plain": [
       "array([[2., 3.],\n",
       "       [4., 5.]])"
      ]
     },
     "execution_count": 68,
     "metadata": {},
     "output_type": "execute_result"
    }
   ],
   "source": [
    "data + ones #Arrays somam os elementos entre si"
   ]
  },
  {
   "cell_type": "code",
   "execution_count": 69,
   "metadata": {},
   "outputs": [
    {
     "data": {
      "text/plain": [
       "array([[0., 1.],\n",
       "       [2., 3.]])"
      ]
     },
     "execution_count": 69,
     "metadata": {},
     "output_type": "execute_result"
    }
   ],
   "source": [
    "data - ones #Subtração"
   ]
  },
  {
   "cell_type": "code",
   "execution_count": 79,
   "metadata": {},
   "outputs": [
    {
     "data": {
      "text/plain": [
       "array([ 1,  2,  3,  4,  5,  6,  7,  8,  9, 10, 11, 12, 13, 14, 15])"
      ]
     },
     "execution_count": 79,
     "metadata": {},
     "output_type": "execute_result"
    }
   ],
   "source": [
    "a = np.arange(1,16)\n",
    "a"
   ]
  },
  {
   "cell_type": "code",
   "execution_count": 80,
   "metadata": {},
   "outputs": [
    {
     "data": {
      "text/plain": [
       "array([0, 0, 0, 0, 0, 0, 0, 0, 0, 0, 0, 0, 0, 0, 0])"
      ]
     },
     "execution_count": 80,
     "metadata": {},
     "output_type": "execute_result"
    }
   ],
   "source": [
    "zeros = np.zeros_like(a) #Retorna uma matriz de número 0 comparando com uma matriz ja estabelecida\n",
    "\n",
    "zeros"
   ]
  },
  {
   "cell_type": "code",
   "execution_count": 81,
   "metadata": {},
   "outputs": [
    {
     "data": {
      "text/plain": [
       "array([0, 0, 0, 0, 0, 0, 0, 0, 0, 0, 0, 0, 0, 0, 0])"
      ]
     },
     "execution_count": 81,
     "metadata": {},
     "output_type": "execute_result"
    }
   ],
   "source": [
    "a * zeros #Multiplicando"
   ]
  },
  {
   "cell_type": "code",
   "execution_count": 82,
   "metadata": {},
   "outputs": [
    {
     "name": "stderr",
     "output_type": "stream",
     "text": [
      "C:\\Users\\Alan Alves\\AppData\\Local\\Temp\\ipykernel_2784\\2230826983.py:1: RuntimeWarning: divide by zero encountered in divide\n",
      "  a / zeros #Bizarrice\n"
     ]
    },
    {
     "data": {
      "text/plain": [
       "array([inf, inf, inf, inf, inf, inf, inf, inf, inf, inf, inf, inf, inf,\n",
       "       inf, inf])"
      ]
     },
     "execution_count": 82,
     "metadata": {},
     "output_type": "execute_result"
    }
   ],
   "source": [
    "a / zeros #Bizarrice"
   ]
  },
  {
   "cell_type": "code",
   "execution_count": null,
   "metadata": {},
   "outputs": [
    {
     "data": {
      "text/plain": [
       "array([ 10,  20,  30,  40,  50,  60,  70,  80,  90, 100, 110, 120, 130,\n",
       "       140, 150])"
      ]
     },
     "execution_count": 83,
     "metadata": {},
     "output_type": "execute_result"
    }
   ],
   "source": [
    "a = a * 10 #Multiplicando constante\n",
    "a"
   ]
  },
  {
   "cell_type": "code",
   "execution_count": 85,
   "metadata": {},
   "outputs": [
    {
     "data": {
      "text/plain": [
       "array([  8,  18,  28,  38,  48,  58,  68,  78,  88,  98, 108, 118, 128,\n",
       "       138, 148])"
      ]
     },
     "execution_count": 85,
     "metadata": {},
     "output_type": "execute_result"
    }
   ],
   "source": [
    "a - 2 #Ao estabelecer uma constante, é possível aplicar todas as operações"
   ]
  },
  {
   "cell_type": "markdown",
   "metadata": {},
   "source": [
    "Comparando o tempo de execução de uma lista padrão com um array Numpy"
   ]
  },
  {
   "cell_type": "code",
   "execution_count": 130,
   "metadata": {},
   "outputs": [
    {
     "data": {
      "text/plain": [
       "531441"
      ]
     },
     "execution_count": 130,
     "metadata": {},
     "output_type": "execute_result"
    }
   ],
   "source": [
    "#Criando uma lista geral\n",
    "\n",
    "lista = list(range(0,9**6))\n",
    "len(lista)"
   ]
  },
  {
   "cell_type": "code",
   "execution_count": 131,
   "metadata": {},
   "outputs": [],
   "source": [
    "#Definindo os arrays para os testes, definindo o tipo dos códigos\n",
    "\n",
    "np.array(lista).shape\n",
    "nump = np.array(lista)\n",
    "nump_64 = np.array(lista, dtype=\"uint64\")\n",
    "nump_32 = np.array(lista, dtype=\"uint32\")"
   ]
  },
  {
   "cell_type": "code",
   "execution_count": 135,
   "metadata": {
    "id": "cGWg2TPVy3Xx"
   },
   "outputs": [],
   "source": [
    "#Importando a biblioteca sys para medir o tamanho das listas convertidos nas bibliotecas\n",
    "\n",
    "import sys #Biblioteca sys contém funções do sistema, podemos usar para medir o tamanho código"
   ]
  },
  {
   "cell_type": "code",
   "execution_count": 158,
   "metadata": {},
   "outputs": [
    {
     "name": "stdout",
     "output_type": "stream",
     "text": [
      "4251592\n",
      "4251640\n",
      "2125876\n"
     ]
    }
   ],
   "source": [
    "#Comparando o tamanho das listas\n",
    "\n",
    "print(sys.getsizeof(lista)) \n",
    "print(sys.getsizeof(nump_64)) \n",
    "print(sys.getsizeof(nump_32))"
   ]
  },
  {
   "cell_type": "code",
   "execution_count": 137,
   "metadata": {
    "id": "7WbWsFUeydgs"
   },
   "outputs": [],
   "source": [
    "#Importando a biblioteca time para medir o tempo de execução dos códigos\n",
    "\n",
    "import time #Biblioteca time contém funções de tempo, podemos usar para medir o tempo de execução do código"
   ]
  },
  {
   "cell_type": "code",
   "execution_count": 140,
   "metadata": {
    "id": "3YQQ5Lwyz8Hp"
   },
   "outputs": [
    {
     "data": {
      "text/plain": [
       "0.012001276016235352"
      ]
     },
     "execution_count": 140,
     "metadata": {},
     "output_type": "execute_result"
    }
   ],
   "source": [
    "#Tempo de Soma da lista padrão\n",
    "\n",
    "start = time.time()\n",
    "sum(lista)\n",
    "final = time.time()\n",
    "final - start"
   ]
  },
  {
   "cell_type": "code",
   "execution_count": 147,
   "metadata": {
    "id": "a29LLdP2z--P"
   },
   "outputs": [
    {
     "data": {
      "text/plain": [
       "0.0009992122650146484"
      ]
     },
     "execution_count": 147,
     "metadata": {},
     "output_type": "execute_result"
    }
   ],
   "source": [
    "#Tempo de Soma dos arrays\n",
    "\n",
    "start = time.time()\n",
    "nump_64.sum()          #Associando a função soma ao código, podemos aumentar a produtividade\n",
    "final = time.time()\n",
    "final - start"
   ]
  },
  {
   "cell_type": "code",
   "execution_count": 146,
   "metadata": {
    "id": "vik5slcp0A2J"
   },
   "outputs": [
    {
     "data": {
      "text/plain": [
       "0.0009989738464355469"
      ]
     },
     "execution_count": 146,
     "metadata": {},
     "output_type": "execute_result"
    }
   ],
   "source": [
    "start = time.time()\n",
    "nump_32.sum()\n",
    "final = time.time()\n",
    "final - start"
   ]
  },
  {
   "cell_type": "markdown",
   "metadata": {
    "id": "X8kINRUbPnti"
   },
   "source": [
    "# Ex 1"
   ]
  },
  {
   "cell_type": "markdown",
   "metadata": {
    "id": "QDc0r17Zp36j"
   },
   "source": [
    "1. Utilizando a biblioteca numpy siga as instruções abaixo:\n",
    "   1. Crie um array 6x6 preenchido com zero\n",
    "   1. Preencha o centro desse array com um array 4x4 preenchido com uns\n",
    "   1. Preencha o centro desse array com um array 2x2 preenchido com dois\n",
    "   1. Gere um segundo array 6x6 com números inteiros aleatórios entre 0 e 2.\n",
    "   1. Subtraia o primeiro array pelo segundo"
   ]
  },
  {
   "cell_type": "markdown",
   "metadata": {
    "id": "X2BE_IHGrZSW"
   },
   "source": [
    "1.a"
   ]
  },
  {
   "cell_type": "code",
   "execution_count": 148,
   "metadata": {
    "executionInfo": {
     "elapsed": 250,
     "status": "ok",
     "timestamp": 1659238277138,
     "user": {
      "displayName": "Alan Cristofer Silva Alves",
      "userId": "00039581976732149420"
     },
     "user_tz": 180
    },
    "id": "92J8fjfUqMvs"
   },
   "outputs": [],
   "source": [
    "# !pip install numpy"
   ]
  },
  {
   "cell_type": "code",
   "execution_count": 149,
   "metadata": {
    "colab": {
     "base_uri": "https://localhost:8080/"
    },
    "executionInfo": {
     "elapsed": 224,
     "status": "ok",
     "timestamp": 1659238320264,
     "user": {
      "displayName": "Alan Cristofer Silva Alves",
      "userId": "00039581976732149420"
     },
     "user_tz": 180
    },
    "id": "hT0lZhqWpynk",
    "outputId": "6c9276b7-b4c0-45b6-dbae-86ab3e6145b8"
   },
   "outputs": [
    {
     "data": {
      "text/plain": [
       "array([[0., 0., 0., 0., 0., 0.],\n",
       "       [0., 0., 0., 0., 0., 0.],\n",
       "       [0., 0., 0., 0., 0., 0.],\n",
       "       [0., 0., 0., 0., 0., 0.],\n",
       "       [0., 0., 0., 0., 0., 0.],\n",
       "       [0., 0., 0., 0., 0., 0.]])"
      ]
     },
     "execution_count": 149,
     "metadata": {},
     "output_type": "execute_result"
    }
   ],
   "source": [
    "import numpy as np\n",
    "# help(np.zeros)\n",
    "array1 = np.zeros(shape=(6,6))\n",
    "array1"
   ]
  },
  {
   "cell_type": "code",
   "execution_count": 150,
   "metadata": {
    "colab": {
     "base_uri": "https://localhost:8080/"
    },
    "executionInfo": {
     "elapsed": 224,
     "status": "ok",
     "timestamp": 1659238355015,
     "user": {
      "displayName": "Alan Cristofer Silva Alves",
      "userId": "00039581976732149420"
     },
     "user_tz": 180
    },
    "id": "GqdfVfmquWMi",
    "outputId": "7392d756-a865-46e3-ac11-eb90d474f505"
   },
   "outputs": [
    {
     "data": {
      "text/plain": [
       "2"
      ]
     },
     "execution_count": 150,
     "metadata": {},
     "output_type": "execute_result"
    }
   ],
   "source": [
    "np.zeros(shape=(6,6)).ndim"
   ]
  },
  {
   "cell_type": "code",
   "execution_count": 151,
   "metadata": {
    "colab": {
     "base_uri": "https://localhost:8080/"
    },
    "executionInfo": {
     "elapsed": 238,
     "status": "ok",
     "timestamp": 1659238356839,
     "user": {
      "displayName": "Alan Cristofer Silva Alves",
      "userId": "00039581976732149420"
     },
     "user_tz": 180
    },
    "id": "71OPJleNuWdB",
    "outputId": "39c11234-10c4-4fcd-d2af-04f3fce747c9"
   },
   "outputs": [
    {
     "data": {
      "text/plain": [
       "36"
      ]
     },
     "execution_count": 151,
     "metadata": {},
     "output_type": "execute_result"
    }
   ],
   "source": [
    "np.zeros(shape=(6,6)).size"
   ]
  },
  {
   "cell_type": "code",
   "execution_count": 152,
   "metadata": {
    "colab": {
     "base_uri": "https://localhost:8080/"
    },
    "executionInfo": {
     "elapsed": 205,
     "status": "ok",
     "timestamp": 1659238360151,
     "user": {
      "displayName": "Alan Cristofer Silva Alves",
      "userId": "00039581976732149420"
     },
     "user_tz": 180
    },
    "id": "bmp3_DXBqGy0",
    "outputId": "572511fb-d2e4-404a-998d-eeb8020e34f8"
   },
   "outputs": [
    {
     "data": {
      "text/plain": [
       "(6, 6)"
      ]
     },
     "execution_count": 152,
     "metadata": {},
     "output_type": "execute_result"
    }
   ],
   "source": [
    "array1.shape"
   ]
  },
  {
   "cell_type": "code",
   "execution_count": 153,
   "metadata": {
    "colab": {
     "base_uri": "https://localhost:8080/"
    },
    "executionInfo": {
     "elapsed": 230,
     "status": "ok",
     "timestamp": 1659238362250,
     "user": {
      "displayName": "Alan Cristofer Silva Alves",
      "userId": "00039581976732149420"
     },
     "user_tz": 180
    },
    "id": "QorcAtpQqZwA",
    "outputId": "0d0756e3-c26a-4718-85ca-c0edbb796364"
   },
   "outputs": [
    {
     "data": {
      "text/plain": [
       "dtype('float64')"
      ]
     },
     "execution_count": 153,
     "metadata": {},
     "output_type": "execute_result"
    }
   ],
   "source": [
    "array1.dtype"
   ]
  },
  {
   "cell_type": "markdown",
   "metadata": {
    "id": "ix6AOKmXrXtm"
   },
   "source": [
    "1.b"
   ]
  },
  {
   "cell_type": "code",
   "execution_count": 154,
   "metadata": {
    "colab": {
     "base_uri": "https://localhost:8080/"
    },
    "executionInfo": {
     "elapsed": 40,
     "status": "ok",
     "timestamp": 1658851496753,
     "user": {
      "displayName": "Alan Cristofer Silva Alves",
      "userId": "00039581976732149420"
     },
     "user_tz": 180
    },
    "id": "jLGhT6JRqdPm",
    "outputId": "16381ac0-50b9-4500-e978-6b87f61ece24"
   },
   "outputs": [
    {
     "data": {
      "text/plain": [
       "array([[0., 0., 0., 0., 0., 0.],\n",
       "       [0., 1., 1., 1., 1., 0.],\n",
       "       [0., 1., 1., 1., 1., 0.],\n",
       "       [0., 1., 1., 1., 1., 0.],\n",
       "       [0., 1., 1., 1., 1., 0.],\n",
       "       [0., 0., 0., 0., 0., 0.]])"
      ]
     },
     "execution_count": 154,
     "metadata": {},
     "output_type": "execute_result"
    }
   ],
   "source": [
    "# array[1]\n",
    "# array1[1, 1]\n",
    "# array1[1:4]\n",
    "# array1[1:5]\n",
    "# array1[1:-1]\n",
    "# array1[1:-1, 1:-1]\n",
    "# help(np.ones)\n",
    "array1[1:-1, 1:-1] = np.ones(shape=(4,4))\n",
    "array1\n",
    "# não dá pra fazer assim com listas sem utilizar for"
   ]
  },
  {
   "cell_type": "markdown",
   "metadata": {
    "id": "r1MDjXB0tyl0"
   },
   "source": [
    "1.c"
   ]
  },
  {
   "cell_type": "code",
   "execution_count": 155,
   "metadata": {
    "colab": {
     "base_uri": "https://localhost:8080/"
    },
    "executionInfo": {
     "elapsed": 39,
     "status": "ok",
     "timestamp": 1658851496754,
     "user": {
      "displayName": "Alan Cristofer Silva Alves",
      "userId": "00039581976732149420"
     },
     "user_tz": 180
    },
    "id": "ZRS0zKVKqolQ",
    "outputId": "77b5a7ad-7836-4ca2-97f0-e0b7a7c0739b"
   },
   "outputs": [
    {
     "data": {
      "text/plain": [
       "array([[0., 0., 0., 0., 0., 0.],\n",
       "       [0., 1., 1., 1., 1., 0.],\n",
       "       [0., 1., 2., 2., 1., 0.],\n",
       "       [0., 1., 2., 2., 1., 0.],\n",
       "       [0., 1., 1., 1., 1., 0.],\n",
       "       [0., 0., 0., 0., 0., 0.]])"
      ]
     },
     "execution_count": 155,
     "metadata": {},
     "output_type": "execute_result"
    }
   ],
   "source": [
    "# np.array([\n",
    "#   [2,2],\n",
    "#   [2,2]\n",
    "# ])\n",
    "# np.zeros(shape=(2,2)) + 2\n",
    "# np.ones(shape=(2,2)) * 2\n",
    "# Não dá pra fazer assim com listas\n",
    "# help(np.full)\n",
    "array1[2:-2, 2:-2] = np.full(shape=(2,2), fill_value=2)\n",
    "array1"
   ]
  },
  {
   "cell_type": "markdown",
   "metadata": {
    "id": "T9ZvCfVat14D"
   },
   "source": [
    "1.d"
   ]
  },
  {
   "cell_type": "code",
   "execution_count": 156,
   "metadata": {
    "colab": {
     "base_uri": "https://localhost:8080/"
    },
    "executionInfo": {
     "elapsed": 37,
     "status": "ok",
     "timestamp": 1658851496754,
     "user": {
      "displayName": "Alan Cristofer Silva Alves",
      "userId": "00039581976732149420"
     },
     "user_tz": 180
    },
    "id": "8k6PIYaxsF0m",
    "outputId": "ef0519bb-cbf9-4343-de20-a1da8282d185"
   },
   "outputs": [
    {
     "data": {
      "text/plain": [
       "array([[0, 1, 0, 1, 1, 2],\n",
       "       [0, 2, 0, 0, 0, 2],\n",
       "       [1, 2, 2, 0, 1, 1],\n",
       "       [1, 1, 0, 1, 0, 0],\n",
       "       [1, 2, 0, 2, 0, 1],\n",
       "       [1, 2, 0, 1, 1, 1]], dtype=int32)"
      ]
     },
     "execution_count": 156,
     "metadata": {},
     "output_type": "execute_result"
    }
   ],
   "source": [
    "# numpy random\n",
    "# https://numpy.org/doc/1.16/reference/routines.random.html\n",
    "# help(np.random.randint)\n",
    "# np.random.randint(low=0, high=3, size=(6,6))\n",
    "# numpy set seed\n",
    "# https://docs.scipy.org/doc/numpy-1.15.1/reference/generated/numpy.random.seed.html\n",
    "np.random.seed(0)\n",
    "array2 = np.random.randint(low=0, high=3, size=(6,6))\n",
    "array2"
   ]
  },
  {
   "cell_type": "markdown",
   "metadata": {
    "id": "INwKMziov_t6"
   },
   "source": [
    "1.e"
   ]
  },
  {
   "cell_type": "code",
   "execution_count": 157,
   "metadata": {
    "colab": {
     "base_uri": "https://localhost:8080/"
    },
    "executionInfo": {
     "elapsed": 36,
     "status": "ok",
     "timestamp": 1658851496754,
     "user": {
      "displayName": "Alan Cristofer Silva Alves",
      "userId": "00039581976732149420"
     },
     "user_tz": 180
    },
    "id": "1_YJEwdQtY_9",
    "outputId": "9788ae9c-6a59-45be-acb1-1f24ca9ab3f2"
   },
   "outputs": [
    {
     "data": {
      "text/plain": [
       "array([[ 0., -1.,  0., -1., -1., -2.],\n",
       "       [ 0., -1.,  1.,  1.,  1., -2.],\n",
       "       [-1., -1.,  0.,  2.,  0., -1.],\n",
       "       [-1.,  0.,  2.,  1.,  1.,  0.],\n",
       "       [-1., -1.,  1., -1.,  1., -1.],\n",
       "       [-1., -2.,  0., -1., -1., -1.]])"
      ]
     },
     "execution_count": 157,
     "metadata": {},
     "output_type": "execute_result"
    }
   ],
   "source": [
    "array1-array2"
   ]
  },
  {
   "cell_type": "markdown",
   "metadata": {
    "id": "RQg16Fe8P2QI"
   },
   "source": [
    "# Ex 2"
   ]
  },
  {
   "cell_type": "markdown",
   "metadata": {
    "id": "xnF6dzzfwQOy"
   },
   "source": [
    "\n",
    "2. Crie um array de duas dimensões, no formato 9x9, com números de 0 a 80 ordenados de modo crescente e selecione:\n",
    "   1. Os números ímpares\n",
    "   1. Os números pares\n",
    "   1. Os múltiplos de sete\n",
    "   1. Os múltiplos de 10\n",
    "   1. Os números 32,33,42,43"
   ]
  },
  {
   "cell_type": "markdown",
   "metadata": {
    "id": "AvG-i579wE8f"
   },
   "source": [
    "2"
   ]
  },
  {
   "cell_type": "markdown",
   "metadata": {
    "id": "gyfCoOe3xzDk"
   },
   "source": [
    "2.a e b"
   ]
  },
  {
   "cell_type": "code",
   "execution_count": null,
   "metadata": {
    "colab": {
     "base_uri": "https://localhost:8080/"
    },
    "executionInfo": {
     "elapsed": 228,
     "status": "ok",
     "timestamp": 1659240511854,
     "user": {
      "displayName": "Alan Cristofer Silva Alves",
      "userId": "00039581976732149420"
     },
     "user_tz": 180
    },
    "id": "Moq7jTguwBkT",
    "outputId": "cc4994ba-b86a-4548-9ef8-9a33ddadddbc"
   },
   "outputs": [
    {
     "data": {
      "text/plain": [
       "array([[ 0,  1,  2,  3,  4,  5,  6,  7,  8],\n",
       "       [ 9, 10, 11, 12, 13, 14, 15, 16, 17],\n",
       "       [18, 19, 20, 21, 22, 23, 24, 25, 26],\n",
       "       [27, 28, 29, 30, 31, 32, 33, 34, 35],\n",
       "       [36, 37, 38, 39, 40, 41, 42, 43, 44],\n",
       "       [45, 46, 47, 48, 49, 50, 51, 52, 53],\n",
       "       [54, 55, 56, 57, 58, 59, 60, 61, 62],\n",
       "       [63, 64, 65, 66, 67, 68, 69, 70, 71],\n",
       "       [72, 73, 74, 75, 76, 77, 78, 79, 80]])"
      ]
     },
     "execution_count": 24,
     "metadata": {},
     "output_type": "execute_result"
    }
   ],
   "source": [
    "# help(np.arange)\n",
    "# np.arange(start=0, stop=81, step=1)\n",
    "array = np.arange(81).reshape(9,9)\n",
    "# np.arange(start=0, stop=81, step=1).reshape(9,-1)\n",
    "array"
   ]
  },
  {
   "cell_type": "code",
   "execution_count": null,
   "metadata": {
    "colab": {
     "base_uri": "https://localhost:8080/"
    },
    "executionInfo": {
     "elapsed": 238,
     "status": "ok",
     "timestamp": 1659240941200,
     "user": {
      "displayName": "Alan Cristofer Silva Alves",
      "userId": "00039581976732149420"
     },
     "user_tz": 180
    },
    "id": "L9WoPQ27xElU",
    "outputId": "0cf7b642-54fa-4cf8-bbb7-de0b07b6656e"
   },
   "outputs": [
    {
     "data": {
      "text/plain": [
       "array([ 1,  3,  5,  7,  9, 11, 13, 15, 17, 19, 21, 23, 25, 27, 29, 31, 33,\n",
       "       35, 37, 39, 41, 43, 45, 47, 49, 51, 53, 55, 57, 59, 61, 63, 65, 67,\n",
       "       69, 71, 73, 75, 77, 79])"
      ]
     },
     "execution_count": 28,
     "metadata": {},
     "output_type": "execute_result"
    }
   ],
   "source": [
    "# array % 2\n",
    "array[array % 2 == 1]\n",
    "mask_impar = array % 2 == 1 # Mask\n",
    "# mask_impar\n",
    "array[mask_impar]\n"
   ]
  },
  {
   "cell_type": "markdown",
   "metadata": {
    "id": "_EqYfn6CyC-Z"
   },
   "source": [
    "2.b"
   ]
  },
  {
   "cell_type": "code",
   "execution_count": null,
   "metadata": {
    "colab": {
     "base_uri": "https://localhost:8080/"
    },
    "executionInfo": {
     "elapsed": 32,
     "status": "ok",
     "timestamp": 1658851496756,
     "user": {
      "displayName": "Alan Cristofer Silva Alves",
      "userId": "00039581976732149420"
     },
     "user_tz": 180
    },
    "id": "NxqMif0VyBTV",
    "outputId": "f84ffd97-a9e9-4fec-e720-114576eb1be7"
   },
   "outputs": [
    {
     "data": {
      "text/plain": [
       "array([ 0,  2,  4,  6,  8, 10, 12, 14, 16, 18, 20, 22, 24, 26, 28, 30, 32,\n",
       "       34, 36, 38, 40, 42, 44, 46, 48, 50, 52, 54, 56, 58, 60, 62, 64, 66,\n",
       "       68, 70, 72, 74, 76, 78, 80])"
      ]
     },
     "execution_count": 22,
     "metadata": {},
     "output_type": "execute_result"
    }
   ],
   "source": [
    "# array[not mask_impar]\n",
    "# array[~mask_impar]\n",
    "# array % 2 == 0\n",
    "mask_par = array % 2 == 0 # Mask\n",
    "array[mask_par]"
   ]
  },
  {
   "cell_type": "markdown",
   "metadata": {
    "id": "giqejT30zLmf"
   },
   "source": [
    "2.c"
   ]
  },
  {
   "cell_type": "code",
   "execution_count": null,
   "metadata": {
    "colab": {
     "base_uri": "https://localhost:8080/"
    },
    "executionInfo": {
     "elapsed": 30,
     "status": "ok",
     "timestamp": 1658851496756,
     "user": {
      "displayName": "Alan Cristofer Silva Alves",
      "userId": "00039581976732149420"
     },
     "user_tz": 180
    },
    "id": "jT0fDnQAzK8x",
    "outputId": "bce76f21-099d-4aee-ce1d-3ca4e9a0d04f"
   },
   "outputs": [
    {
     "data": {
      "text/plain": [
       "array([ 0,  7, 14, 21, 28, 35, 42, 49, 56, 63, 70, 77])"
      ]
     },
     "execution_count": 23,
     "metadata": {},
     "output_type": "execute_result"
    }
   ],
   "source": [
    "array\n",
    "# array % 7\n",
    "# array % 7 == 0\n",
    "array[array % 7 == 0]\n",
    "# multi_sete = [0, 7, 14, 21, 28, 35, 42, 49, 56, 63, 70, 77]\n",
    "# numpy check array values in list\n",
    "# https://numpy.org/doc/stable/reference/generated/numpy.isin.html\n",
    "# mask_sete = np.isin(array, multi_sete)\n",
    "# array[mask_sete]\n",
    "# list(range(0, 80, 7))\n",
    "# array[np.isin(array, range(0, 80, 7))]"
   ]
  },
  {
   "cell_type": "markdown",
   "metadata": {
    "id": "s0LGRFE-06uw"
   },
   "source": [
    "2.d"
   ]
  },
  {
   "cell_type": "code",
   "execution_count": null,
   "metadata": {
    "id": "Wx86uMmC0_Mu"
   },
   "outputs": [],
   "source": [
    "# numpy get matrix diagonal\n",
    "# https://numpy.org/doc/stable/reference/generated/numpy.diagonal.html\n",
    "# array.diagonal()\n",
    "# np.diag(array)\n",
    "# array[array %10 == 0]\n",
    "# array.shape\n",
    "# for i in range(array.shape[0]):\n",
    "#   print(array[i,i])\n",
    "# array.ravel()[::10]"
   ]
  },
  {
   "cell_type": "markdown",
   "metadata": {
    "id": "xO6QciGA2rJ8"
   },
   "source": [
    "2.e"
   ]
  },
  {
   "cell_type": "code",
   "execution_count": null,
   "metadata": {
    "colab": {
     "base_uri": "https://localhost:8080/"
    },
    "executionInfo": {
     "elapsed": 29,
     "status": "ok",
     "timestamp": 1658851496757,
     "user": {
      "displayName": "Alan Cristofer Silva Alves",
      "userId": "00039581976732149420"
     },
     "user_tz": 180
    },
    "id": "Zf3fePHF3cpV",
    "outputId": "281b16a2-fd72-4fcc-fa2c-2eb737add9b4"
   },
   "outputs": [
    {
     "data": {
      "text/plain": [
       "array([[ 0,  1,  2,  3,  4,  5,  6,  7,  8],\n",
       "       [ 9, 10, 11, 12, 13, 14, 15, 16, 17],\n",
       "       [18, 19, 20, 21, 22, 23, 24, 25, 26],\n",
       "       [27, 28, 29, 30, 31, 32, 33, 34, 35],\n",
       "       [36, 37, 38, 39, 40, 41, 42, 43, 44],\n",
       "       [45, 46, 47, 48, 49, 50, 51, 52, 53],\n",
       "       [54, 55, 56, 57, 58, 59, 60, 61, 62],\n",
       "       [63, 64, 65, 66, 67, 68, 69, 70, 71],\n",
       "       [72, 73, 74, 75, 76, 77, 78, 79, 80]])"
      ]
     },
     "execution_count": 25,
     "metadata": {},
     "output_type": "execute_result"
    }
   ],
   "source": [
    "array"
   ]
  },
  {
   "cell_type": "code",
   "execution_count": null,
   "metadata": {
    "colab": {
     "base_uri": "https://localhost:8080/"
    },
    "executionInfo": {
     "elapsed": 29,
     "status": "ok",
     "timestamp": 1658851496758,
     "user": {
      "displayName": "Alan Cristofer Silva Alves",
      "userId": "00039581976732149420"
     },
     "user_tz": 180
    },
    "id": "ZbxHky5o2sNS",
    "outputId": "622d0c21-f165-46dd-8a54-a7ee1b21af98"
   },
   "outputs": [
    {
     "data": {
      "text/plain": [
       "array([32, 33, 42, 43])"
      ]
     },
     "execution_count": 26,
     "metadata": {},
     "output_type": "execute_result"
    }
   ],
   "source": [
    "# array.ravel()[[32,33,42,43]]\n",
    "# array[np.isin(array, [32,33,42,43])]\n",
    "array[[3,3,4,4],[5,6,6,7]]"
   ]
  },
  {
   "cell_type": "markdown",
   "metadata": {
    "id": "7IbwVb7mwTPq"
   },
   "source": [
    "\n",
    "3. Crie um array com três dimensões, onde a primeira dimensão são os dias da semana (seg a dom), a segunda dimensão são as semanas do mês (considere apenas 4 para todos os meses), e a terceira são os meses do ano (Jan a dezembro).\n",
    "   1. Marque os finais de semana com a letra W\n",
    "   1. Marque o começo do mês com a letra S\n",
    "   1. Marque o final do mês com a letra E\n",
    "   1. Marque os demais dias com a letra D\n",
    "   1. Marque os feriados nacionais com a letra F\n",
    "      - 01/01 - Ano novo\n",
    "      - 15/04 - Paixão de Cristo\n",
    "      - 21/04 - Tiradentes\n",
    "      - 01/05 - Dia do Trabalho\n",
    "      - 07/09 - Independência do Brasil\n",
    "      - 12/10 - Nossa Senhora Aparecida\n",
    "      - 02/11 - Finados\n",
    "      - 15/11 - Proclamação da República\n",
    "      - 25/12 - Natal"
   ]
  },
  {
   "cell_type": "code",
   "execution_count": null,
   "metadata": {
    "colab": {
     "base_uri": "https://localhost:8080/"
    },
    "executionInfo": {
     "elapsed": 27,
     "status": "ok",
     "timestamp": 1658851496758,
     "user": {
      "displayName": "Alan Cristofer Silva Alves",
      "userId": "00039581976732149420"
     },
     "user_tz": 180
    },
    "id": "O2cUNlvgwUCj",
    "outputId": "fada5f68-f31c-410c-a40d-c0c855cfd4a0"
   },
   "outputs": [
    {
     "data": {
      "text/plain": [
       "array([[[ 1,  2,  3,  4,  5,  6,  7],\n",
       "        [ 8,  9, 10, 11, 12, 13, 14],\n",
       "        [15, 16, 17, 18, 19, 20, 21],\n",
       "        [22, 23, 24, 25, 26, 27, 28]],\n",
       "\n",
       "       [[ 1,  2,  3,  4,  5,  6,  7],\n",
       "        [ 8,  9, 10, 11, 12, 13, 14],\n",
       "        [15, 16, 17, 18, 19, 20, 21],\n",
       "        [22, 23, 24, 25, 26, 27, 28]],\n",
       "\n",
       "       [[ 1,  2,  3,  4,  5,  6,  7],\n",
       "        [ 8,  9, 10, 11, 12, 13, 14],\n",
       "        [15, 16, 17, 18, 19, 20, 21],\n",
       "        [22, 23, 24, 25, 26, 27, 28]],\n",
       "\n",
       "       [[ 1,  2,  3,  4,  5,  6,  7],\n",
       "        [ 8,  9, 10, 11, 12, 13, 14],\n",
       "        [15, 16, 17, 18, 19, 20, 21],\n",
       "        [22, 23, 24, 25, 26, 27, 28]],\n",
       "\n",
       "       [[ 1,  2,  3,  4,  5,  6,  7],\n",
       "        [ 8,  9, 10, 11, 12, 13, 14],\n",
       "        [15, 16, 17, 18, 19, 20, 21],\n",
       "        [22, 23, 24, 25, 26, 27, 28]],\n",
       "\n",
       "       [[ 1,  2,  3,  4,  5,  6,  7],\n",
       "        [ 8,  9, 10, 11, 12, 13, 14],\n",
       "        [15, 16, 17, 18, 19, 20, 21],\n",
       "        [22, 23, 24, 25, 26, 27, 28]],\n",
       "\n",
       "       [[ 1,  2,  3,  4,  5,  6,  7],\n",
       "        [ 8,  9, 10, 11, 12, 13, 14],\n",
       "        [15, 16, 17, 18, 19, 20, 21],\n",
       "        [22, 23, 24, 25, 26, 27, 28]],\n",
       "\n",
       "       [[ 1,  2,  3,  4,  5,  6,  7],\n",
       "        [ 8,  9, 10, 11, 12, 13, 14],\n",
       "        [15, 16, 17, 18, 19, 20, 21],\n",
       "        [22, 23, 24, 25, 26, 27, 28]],\n",
       "\n",
       "       [[ 1,  2,  3,  4,  5,  6,  7],\n",
       "        [ 8,  9, 10, 11, 12, 13, 14],\n",
       "        [15, 16, 17, 18, 19, 20, 21],\n",
       "        [22, 23, 24, 25, 26, 27, 28]],\n",
       "\n",
       "       [[ 1,  2,  3,  4,  5,  6,  7],\n",
       "        [ 8,  9, 10, 11, 12, 13, 14],\n",
       "        [15, 16, 17, 18, 19, 20, 21],\n",
       "        [22, 23, 24, 25, 26, 27, 28]],\n",
       "\n",
       "       [[ 1,  2,  3,  4,  5,  6,  7],\n",
       "        [ 8,  9, 10, 11, 12, 13, 14],\n",
       "        [15, 16, 17, 18, 19, 20, 21],\n",
       "        [22, 23, 24, 25, 26, 27, 28]],\n",
       "\n",
       "       [[ 1,  2,  3,  4,  5,  6,  7],\n",
       "        [ 8,  9, 10, 11, 12, 13, 14],\n",
       "        [15, 16, 17, 18, 19, 20, 21],\n",
       "        [22, 23, 24, 25, 26, 27, 28]]])"
      ]
     },
     "execution_count": 27,
     "metadata": {},
     "output_type": "execute_result"
    }
   ],
   "source": [
    "# numpy repeat array\n",
    "# https://numpy.org/doc/stable/reference/generated/numpy.tile.html\n",
    "month = np.arange(1,29).reshape(4,7)\n",
    "# month\n",
    "# np.tile(month, (12,1,1)).shape\n",
    "calendar = np.tile(month, (12,1,1))\n",
    "calendar"
   ]
  },
  {
   "cell_type": "markdown",
   "metadata": {
    "id": "9-WEcxcG7bfg"
   },
   "source": [
    "3.a"
   ]
  },
  {
   "cell_type": "code",
   "execution_count": null,
   "metadata": {
    "colab": {
     "base_uri": "https://localhost:8080/"
    },
    "executionInfo": {
     "elapsed": 25,
     "status": "ok",
     "timestamp": 1658851496758,
     "user": {
      "displayName": "Alan Cristofer Silva Alves",
      "userId": "00039581976732149420"
     },
     "user_tz": 180
    },
    "id": "5_PoqXxE4H8v",
    "outputId": "5bd8fc1d-7a65-4b68-e887-0ba60b372de9"
   },
   "outputs": [
    {
     "data": {
      "text/plain": [
       "array([[['1', '2', '3', '4', '5', 'W', 'W'],\n",
       "        ['8', '9', '10', '11', '12', 'W', 'W'],\n",
       "        ['15', '16', '17', '18', '19', 'W', 'W'],\n",
       "        ['22', '23', '24', '25', '26', 'W', 'W']],\n",
       "\n",
       "       [['1', '2', '3', '4', '5', 'W', 'W'],\n",
       "        ['8', '9', '10', '11', '12', 'W', 'W'],\n",
       "        ['15', '16', '17', '18', '19', 'W', 'W'],\n",
       "        ['22', '23', '24', '25', '26', 'W', 'W']],\n",
       "\n",
       "       [['1', '2', '3', '4', '5', 'W', 'W'],\n",
       "        ['8', '9', '10', '11', '12', 'W', 'W'],\n",
       "        ['15', '16', '17', '18', '19', 'W', 'W'],\n",
       "        ['22', '23', '24', '25', '26', 'W', 'W']],\n",
       "\n",
       "       [['1', '2', '3', '4', '5', 'W', 'W'],\n",
       "        ['8', '9', '10', '11', '12', 'W', 'W'],\n",
       "        ['15', '16', '17', '18', '19', 'W', 'W'],\n",
       "        ['22', '23', '24', '25', '26', 'W', 'W']],\n",
       "\n",
       "       [['1', '2', '3', '4', '5', 'W', 'W'],\n",
       "        ['8', '9', '10', '11', '12', 'W', 'W'],\n",
       "        ['15', '16', '17', '18', '19', 'W', 'W'],\n",
       "        ['22', '23', '24', '25', '26', 'W', 'W']],\n",
       "\n",
       "       [['1', '2', '3', '4', '5', 'W', 'W'],\n",
       "        ['8', '9', '10', '11', '12', 'W', 'W'],\n",
       "        ['15', '16', '17', '18', '19', 'W', 'W'],\n",
       "        ['22', '23', '24', '25', '26', 'W', 'W']],\n",
       "\n",
       "       [['1', '2', '3', '4', '5', 'W', 'W'],\n",
       "        ['8', '9', '10', '11', '12', 'W', 'W'],\n",
       "        ['15', '16', '17', '18', '19', 'W', 'W'],\n",
       "        ['22', '23', '24', '25', '26', 'W', 'W']],\n",
       "\n",
       "       [['1', '2', '3', '4', '5', 'W', 'W'],\n",
       "        ['8', '9', '10', '11', '12', 'W', 'W'],\n",
       "        ['15', '16', '17', '18', '19', 'W', 'W'],\n",
       "        ['22', '23', '24', '25', '26', 'W', 'W']],\n",
       "\n",
       "       [['1', '2', '3', '4', '5', 'W', 'W'],\n",
       "        ['8', '9', '10', '11', '12', 'W', 'W'],\n",
       "        ['15', '16', '17', '18', '19', 'W', 'W'],\n",
       "        ['22', '23', '24', '25', '26', 'W', 'W']],\n",
       "\n",
       "       [['1', '2', '3', '4', '5', 'W', 'W'],\n",
       "        ['8', '9', '10', '11', '12', 'W', 'W'],\n",
       "        ['15', '16', '17', '18', '19', 'W', 'W'],\n",
       "        ['22', '23', '24', '25', '26', 'W', 'W']],\n",
       "\n",
       "       [['1', '2', '3', '4', '5', 'W', 'W'],\n",
       "        ['8', '9', '10', '11', '12', 'W', 'W'],\n",
       "        ['15', '16', '17', '18', '19', 'W', 'W'],\n",
       "        ['22', '23', '24', '25', '26', 'W', 'W']],\n",
       "\n",
       "       [['1', '2', '3', '4', '5', 'W', 'W'],\n",
       "        ['8', '9', '10', '11', '12', 'W', 'W'],\n",
       "        ['15', '16', '17', '18', '19', 'W', 'W'],\n",
       "        ['22', '23', '24', '25', '26', 'W', 'W']]], dtype='<U21')"
      ]
     },
     "execution_count": 28,
     "metadata": {},
     "output_type": "execute_result"
    }
   ],
   "source": [
    "# calendar[:,:, 5:]\n",
    "# calendar[:,:, 5:] = 'W'\n",
    "calendar = calendar.astype(str)\n",
    "calendar[:,:, 5:] = 'W'\n",
    "calendar\n",
    "# Vai ter que utilizar muito for pra fazer isso em lista"
   ]
  },
  {
   "cell_type": "markdown",
   "metadata": {
    "id": "s07hIS6g77mE"
   },
   "source": [
    "3.b"
   ]
  },
  {
   "cell_type": "code",
   "execution_count": null,
   "metadata": {
    "colab": {
     "base_uri": "https://localhost:8080/"
    },
    "executionInfo": {
     "elapsed": 23,
     "status": "ok",
     "timestamp": 1658851496759,
     "user": {
      "displayName": "Alan Cristofer Silva Alves",
      "userId": "00039581976732149420"
     },
     "user_tz": 180
    },
    "id": "jIZ5jlv57h0k",
    "outputId": "ba769409-c029-48f7-99d5-aadea75bd95a"
   },
   "outputs": [
    {
     "data": {
      "text/plain": [
       "array([[['S', '2', '3', '4', '5', 'W', 'W'],\n",
       "        ['8', '9', '10', '11', '12', 'W', 'W'],\n",
       "        ['15', '16', '17', '18', '19', 'W', 'W'],\n",
       "        ['22', '23', '24', '25', '26', 'W', 'W']],\n",
       "\n",
       "       [['S', '2', '3', '4', '5', 'W', 'W'],\n",
       "        ['8', '9', '10', '11', '12', 'W', 'W'],\n",
       "        ['15', '16', '17', '18', '19', 'W', 'W'],\n",
       "        ['22', '23', '24', '25', '26', 'W', 'W']],\n",
       "\n",
       "       [['S', '2', '3', '4', '5', 'W', 'W'],\n",
       "        ['8', '9', '10', '11', '12', 'W', 'W'],\n",
       "        ['15', '16', '17', '18', '19', 'W', 'W'],\n",
       "        ['22', '23', '24', '25', '26', 'W', 'W']],\n",
       "\n",
       "       [['S', '2', '3', '4', '5', 'W', 'W'],\n",
       "        ['8', '9', '10', '11', '12', 'W', 'W'],\n",
       "        ['15', '16', '17', '18', '19', 'W', 'W'],\n",
       "        ['22', '23', '24', '25', '26', 'W', 'W']],\n",
       "\n",
       "       [['S', '2', '3', '4', '5', 'W', 'W'],\n",
       "        ['8', '9', '10', '11', '12', 'W', 'W'],\n",
       "        ['15', '16', '17', '18', '19', 'W', 'W'],\n",
       "        ['22', '23', '24', '25', '26', 'W', 'W']],\n",
       "\n",
       "       [['S', '2', '3', '4', '5', 'W', 'W'],\n",
       "        ['8', '9', '10', '11', '12', 'W', 'W'],\n",
       "        ['15', '16', '17', '18', '19', 'W', 'W'],\n",
       "        ['22', '23', '24', '25', '26', 'W', 'W']],\n",
       "\n",
       "       [['S', '2', '3', '4', '5', 'W', 'W'],\n",
       "        ['8', '9', '10', '11', '12', 'W', 'W'],\n",
       "        ['15', '16', '17', '18', '19', 'W', 'W'],\n",
       "        ['22', '23', '24', '25', '26', 'W', 'W']],\n",
       "\n",
       "       [['S', '2', '3', '4', '5', 'W', 'W'],\n",
       "        ['8', '9', '10', '11', '12', 'W', 'W'],\n",
       "        ['15', '16', '17', '18', '19', 'W', 'W'],\n",
       "        ['22', '23', '24', '25', '26', 'W', 'W']],\n",
       "\n",
       "       [['S', '2', '3', '4', '5', 'W', 'W'],\n",
       "        ['8', '9', '10', '11', '12', 'W', 'W'],\n",
       "        ['15', '16', '17', '18', '19', 'W', 'W'],\n",
       "        ['22', '23', '24', '25', '26', 'W', 'W']],\n",
       "\n",
       "       [['S', '2', '3', '4', '5', 'W', 'W'],\n",
       "        ['8', '9', '10', '11', '12', 'W', 'W'],\n",
       "        ['15', '16', '17', '18', '19', 'W', 'W'],\n",
       "        ['22', '23', '24', '25', '26', 'W', 'W']],\n",
       "\n",
       "       [['S', '2', '3', '4', '5', 'W', 'W'],\n",
       "        ['8', '9', '10', '11', '12', 'W', 'W'],\n",
       "        ['15', '16', '17', '18', '19', 'W', 'W'],\n",
       "        ['22', '23', '24', '25', '26', 'W', 'W']],\n",
       "\n",
       "       [['S', '2', '3', '4', '5', 'W', 'W'],\n",
       "        ['8', '9', '10', '11', '12', 'W', 'W'],\n",
       "        ['15', '16', '17', '18', '19', 'W', 'W'],\n",
       "        ['22', '23', '24', '25', '26', 'W', 'W']]], dtype='<U21')"
      ]
     },
     "execution_count": 29,
     "metadata": {},
     "output_type": "execute_result"
    }
   ],
   "source": [
    "calendar[:, 0, 0]\n",
    "calendar[:, 0, 0] = 'S'\n",
    "calendar"
   ]
  },
  {
   "cell_type": "markdown",
   "metadata": {
    "id": "62AdhKjY8Lip"
   },
   "source": [
    "3.c"
   ]
  },
  {
   "cell_type": "code",
   "execution_count": null,
   "metadata": {
    "colab": {
     "base_uri": "https://localhost:8080/"
    },
    "executionInfo": {
     "elapsed": 20,
     "status": "ok",
     "timestamp": 1658851496759,
     "user": {
      "displayName": "Alan Cristofer Silva Alves",
      "userId": "00039581976732149420"
     },
     "user_tz": 180
    },
    "id": "JafhgI3_8AAE",
    "outputId": "b9c7d271-641f-45a3-b335-e6c451e80cbe"
   },
   "outputs": [
    {
     "data": {
      "text/plain": [
       "array([[['S', '2', '3', '4', '5', 'W', 'W'],\n",
       "        ['8', '9', '10', '11', '12', 'W', 'W'],\n",
       "        ['15', '16', '17', '18', '19', 'W', 'W'],\n",
       "        ['22', '23', '24', '25', '26', 'W', 'E']],\n",
       "\n",
       "       [['S', '2', '3', '4', '5', 'W', 'W'],\n",
       "        ['8', '9', '10', '11', '12', 'W', 'W'],\n",
       "        ['15', '16', '17', '18', '19', 'W', 'W'],\n",
       "        ['22', '23', '24', '25', '26', 'W', 'E']],\n",
       "\n",
       "       [['S', '2', '3', '4', '5', 'W', 'W'],\n",
       "        ['8', '9', '10', '11', '12', 'W', 'W'],\n",
       "        ['15', '16', '17', '18', '19', 'W', 'W'],\n",
       "        ['22', '23', '24', '25', '26', 'W', 'E']],\n",
       "\n",
       "       [['S', '2', '3', '4', '5', 'W', 'W'],\n",
       "        ['8', '9', '10', '11', '12', 'W', 'W'],\n",
       "        ['15', '16', '17', '18', '19', 'W', 'W'],\n",
       "        ['22', '23', '24', '25', '26', 'W', 'E']],\n",
       "\n",
       "       [['S', '2', '3', '4', '5', 'W', 'W'],\n",
       "        ['8', '9', '10', '11', '12', 'W', 'W'],\n",
       "        ['15', '16', '17', '18', '19', 'W', 'W'],\n",
       "        ['22', '23', '24', '25', '26', 'W', 'E']],\n",
       "\n",
       "       [['S', '2', '3', '4', '5', 'W', 'W'],\n",
       "        ['8', '9', '10', '11', '12', 'W', 'W'],\n",
       "        ['15', '16', '17', '18', '19', 'W', 'W'],\n",
       "        ['22', '23', '24', '25', '26', 'W', 'E']],\n",
       "\n",
       "       [['S', '2', '3', '4', '5', 'W', 'W'],\n",
       "        ['8', '9', '10', '11', '12', 'W', 'W'],\n",
       "        ['15', '16', '17', '18', '19', 'W', 'W'],\n",
       "        ['22', '23', '24', '25', '26', 'W', 'E']],\n",
       "\n",
       "       [['S', '2', '3', '4', '5', 'W', 'W'],\n",
       "        ['8', '9', '10', '11', '12', 'W', 'W'],\n",
       "        ['15', '16', '17', '18', '19', 'W', 'W'],\n",
       "        ['22', '23', '24', '25', '26', 'W', 'E']],\n",
       "\n",
       "       [['S', '2', '3', '4', '5', 'W', 'W'],\n",
       "        ['8', '9', '10', '11', '12', 'W', 'W'],\n",
       "        ['15', '16', '17', '18', '19', 'W', 'W'],\n",
       "        ['22', '23', '24', '25', '26', 'W', 'E']],\n",
       "\n",
       "       [['S', '2', '3', '4', '5', 'W', 'W'],\n",
       "        ['8', '9', '10', '11', '12', 'W', 'W'],\n",
       "        ['15', '16', '17', '18', '19', 'W', 'W'],\n",
       "        ['22', '23', '24', '25', '26', 'W', 'E']],\n",
       "\n",
       "       [['S', '2', '3', '4', '5', 'W', 'W'],\n",
       "        ['8', '9', '10', '11', '12', 'W', 'W'],\n",
       "        ['15', '16', '17', '18', '19', 'W', 'W'],\n",
       "        ['22', '23', '24', '25', '26', 'W', 'E']],\n",
       "\n",
       "       [['S', '2', '3', '4', '5', 'W', 'W'],\n",
       "        ['8', '9', '10', '11', '12', 'W', 'W'],\n",
       "        ['15', '16', '17', '18', '19', 'W', 'W'],\n",
       "        ['22', '23', '24', '25', '26', 'W', 'E']]], dtype='<U21')"
      ]
     },
     "execution_count": 30,
     "metadata": {},
     "output_type": "execute_result"
    }
   ],
   "source": [
    "# calendar[:, 3, 6]\n",
    "calendar[:, -1, -1]\n",
    "calendar[:, -1, -1] = 'E'\n",
    "calendar"
   ]
  },
  {
   "cell_type": "code",
   "execution_count": null,
   "metadata": {
    "colab": {
     "base_uri": "https://localhost:8080/"
    },
    "executionInfo": {
     "elapsed": 357,
     "status": "ok",
     "timestamp": 1658851497100,
     "user": {
      "displayName": "Alan Cristofer Silva Alves",
      "userId": "00039581976732149420"
     },
     "user_tz": 180
    },
    "id": "wkIQn21h8Tol",
    "outputId": "528b9f7f-45b7-444f-fbb3-7ed3cd32b875"
   },
   "outputs": [
    {
     "data": {
      "text/plain": [
       "array([[['F', '2', '3', '4', '5', 'W', 'W'],\n",
       "        ['8', '9', '10', '11', '12', 'W', 'W'],\n",
       "        ['15', '16', '17', '18', '19', 'W', 'W'],\n",
       "        ['22', '23', '24', '25', '26', 'W', 'E']],\n",
       "\n",
       "       [['S', '2', '3', '4', '5', 'W', 'W'],\n",
       "        ['8', '9', '10', '11', '12', 'W', 'W'],\n",
       "        ['15', '16', '17', '18', '19', 'W', 'W'],\n",
       "        ['22', '23', '24', '25', '26', 'W', 'E']],\n",
       "\n",
       "       [['S', '2', '3', '4', '5', 'W', 'W'],\n",
       "        ['8', '9', '10', '11', '12', 'W', 'W'],\n",
       "        ['15', '16', '17', '18', '19', 'W', 'W'],\n",
       "        ['22', '23', '24', '25', '26', 'W', 'E']],\n",
       "\n",
       "       [['S', '2', '3', '4', '5', 'W', 'W'],\n",
       "        ['8', '9', '10', '11', '12', 'W', 'W'],\n",
       "        ['F', '16', '17', '18', '19', 'W', 'F'],\n",
       "        ['22', '23', '24', '25', '26', 'W', 'E']],\n",
       "\n",
       "       [['F', '2', '3', '4', '5', 'W', 'W'],\n",
       "        ['8', '9', '10', '11', '12', 'W', 'W'],\n",
       "        ['15', '16', '17', '18', '19', 'W', 'W'],\n",
       "        ['22', '23', '24', '25', '26', 'W', 'E']],\n",
       "\n",
       "       [['S', '2', '3', '4', '5', 'W', 'W'],\n",
       "        ['8', '9', '10', '11', '12', 'W', 'W'],\n",
       "        ['15', '16', '17', '18', '19', 'W', 'W'],\n",
       "        ['22', '23', '24', '25', '26', 'W', 'E']],\n",
       "\n",
       "       [['S', '2', '3', '4', '5', 'W', 'W'],\n",
       "        ['8', '9', '10', '11', '12', 'W', 'W'],\n",
       "        ['15', '16', '17', '18', '19', 'W', 'W'],\n",
       "        ['22', '23', '24', '25', '26', 'W', 'E']],\n",
       "\n",
       "       [['S', '2', '3', '4', '5', 'W', 'W'],\n",
       "        ['8', '9', '10', '11', '12', 'W', 'W'],\n",
       "        ['15', '16', '17', '18', '19', 'W', 'W'],\n",
       "        ['22', '23', '24', '25', '26', 'W', 'E']],\n",
       "\n",
       "       [['S', '2', '3', '4', '5', 'W', 'F'],\n",
       "        ['8', '9', '10', '11', '12', 'W', 'W'],\n",
       "        ['15', '16', '17', '18', '19', 'W', 'W'],\n",
       "        ['22', '23', '24', '25', '26', 'W', 'E']],\n",
       "\n",
       "       [['S', '2', '3', '4', '5', 'W', 'W'],\n",
       "        ['8', '9', '10', '11', 'F', 'W', 'W'],\n",
       "        ['15', '16', '17', '18', '19', 'W', 'W'],\n",
       "        ['22', '23', '24', '25', '26', 'W', 'E']],\n",
       "\n",
       "       [['S', 'F', '3', '4', '5', 'W', 'W'],\n",
       "        ['8', '9', '10', '11', '12', 'W', 'W'],\n",
       "        ['F', '16', '17', '18', '19', 'W', 'W'],\n",
       "        ['22', '23', '24', '25', '26', 'W', 'E']],\n",
       "\n",
       "       [['S', '2', '3', '4', '5', 'W', 'W'],\n",
       "        ['8', '9', '10', '11', '12', 'W', 'W'],\n",
       "        ['15', '16', '17', '18', '19', 'W', 'W'],\n",
       "        ['22', '23', '24', 'F', '26', 'W', 'E']]], dtype='<U21')"
      ]
     },
     "execution_count": 31,
     "metadata": {},
     "output_type": "execute_result"
    }
   ],
   "source": [
    "mes = [1, 4, 4, 5, 9, 10, 11, 11, 12]\n",
    "dia = [1, 15, 21, 1, 7, 12, 2, 15, 25]\n",
    "# dia//7\n",
    "# np.array(dia)//7\n",
    "# semana = np.array(dia)//7\n",
    "semana = (np.array(dia)-1)//7\n",
    "# (np.array(dia))%7 \n",
    "dia_semana = (np.array(dia)-1)%7\n",
    "# calendar[mes, semana, dia]\n",
    "mes = np.array(mes) - 1\n",
    "calendar[mes, semana, dia_semana] = 'F'\n",
    "calendar"
   ]
  },
  {
   "cell_type": "markdown",
   "metadata": {},
   "source": [
    "# Exemplos práticos de utilização do Numpy"
   ]
  },
  {
   "cell_type": "markdown",
   "metadata": {},
   "source": [
    "Uma imagem de satélite é facilmente processada como um array NumPy. Cada pixel representa um elemento específico dentro de um array permitindo, desta forma, a utilização da biblioteca para o processamento dessas informações."
   ]
  },
  {
   "cell_type": "code",
   "execution_count": 108,
   "metadata": {},
   "outputs": [
    {
     "name": "stdout",
     "output_type": "stream",
     "text": [
      "Requirement already satisfied: rasterio in c:\\users\\alan alves\\appdata\\local\\packages\\pythonsoftwarefoundation.python.3.11_qbz5n2kfra8p0\\localcache\\local-packages\\python311\\site-packages (1.4.3)"
     ]
    },
    {
     "name": "stderr",
     "output_type": "stream",
     "text": [
      "\n",
      "[notice] A new release of pip is available: 24.0 -> 25.0\n",
      "[notice] To update, run: C:\\Users\\Alan Alves\\AppData\\Local\\Microsoft\\WindowsApps\\PythonSoftwareFoundation.Python.3.11_qbz5n2kfra8p0\\python.exe -m pip install --upgrade pip\n"
     ]
    },
    {
     "name": "stdout",
     "output_type": "stream",
     "text": [
      "\n",
      "Requirement already satisfied: affine in c:\\users\\alan alves\\appdata\\local\\packages\\pythonsoftwarefoundation.python.3.11_qbz5n2kfra8p0\\localcache\\local-packages\\python311\\site-packages (from rasterio) (2.4.0)\n",
      "Requirement already satisfied: attrs in c:\\users\\alan alves\\appdata\\local\\packages\\pythonsoftwarefoundation.python.3.11_qbz5n2kfra8p0\\localcache\\local-packages\\python311\\site-packages (from rasterio) (25.1.0)\n",
      "Requirement already satisfied: certifi in c:\\users\\alan alves\\appdata\\local\\packages\\pythonsoftwarefoundation.python.3.11_qbz5n2kfra8p0\\localcache\\local-packages\\python311\\site-packages (from rasterio) (2025.1.31)\n",
      "Requirement already satisfied: click>=4.0 in c:\\users\\alan alves\\appdata\\local\\packages\\pythonsoftwarefoundation.python.3.11_qbz5n2kfra8p0\\localcache\\local-packages\\python311\\site-packages (from rasterio) (8.1.8)\n",
      "Requirement already satisfied: cligj>=0.5 in c:\\users\\alan alves\\appdata\\local\\packages\\pythonsoftwarefoundation.python.3.11_qbz5n2kfra8p0\\localcache\\local-packages\\python311\\site-packages (from rasterio) (0.7.2)\n",
      "Requirement already satisfied: numpy>=1.24 in c:\\users\\alan alves\\appdata\\local\\packages\\pythonsoftwarefoundation.python.3.11_qbz5n2kfra8p0\\localcache\\local-packages\\python311\\site-packages (from rasterio) (2.2.2)\n",
      "Requirement already satisfied: click-plugins in c:\\users\\alan alves\\appdata\\local\\packages\\pythonsoftwarefoundation.python.3.11_qbz5n2kfra8p0\\localcache\\local-packages\\python311\\site-packages (from rasterio) (1.1.1)\n",
      "Requirement already satisfied: pyparsing in c:\\users\\alan alves\\appdata\\local\\packages\\pythonsoftwarefoundation.python.3.11_qbz5n2kfra8p0\\localcache\\local-packages\\python311\\site-packages (from rasterio) (3.2.1)\n",
      "Requirement already satisfied: colorama in c:\\users\\alan alves\\appdata\\local\\packages\\pythonsoftwarefoundation.python.3.11_qbz5n2kfra8p0\\localcache\\local-packages\\python311\\site-packages (from click>=4.0->rasterio) (0.4.6)\n",
      "Requirement already satisfied: matplotlib in c:\\users\\alan alves\\appdata\\local\\packages\\pythonsoftwarefoundation.python.3.11_qbz5n2kfra8p0\\localcache\\local-packages\\python311\\site-packages (3.10.0)\n",
      "Requirement already satisfied: contourpy>=1.0.1 in c:\\users\\alan alves\\appdata\\local\\packages\\pythonsoftwarefoundation.python.3.11_qbz5n2kfra8p0\\localcache\\local-packages\\python311\\site-packages (from matplotlib) (1.3.1)\n",
      "Requirement already satisfied: cycler>=0.10 in c:\\users\\alan alves\\appdata\\local\\packages\\pythonsoftwarefoundation.python.3.11_qbz5n2kfra8p0\\localcache\\local-packages\\python311\\site-packages (from matplotlib) (0.12.1)\n",
      "Requirement already satisfied: fonttools>=4.22.0 in c:\\users\\alan alves\\appdata\\local\\packages\\pythonsoftwarefoundation.python.3.11_qbz5n2kfra8p0\\localcache\\local-packages\\python311\\site-packages (from matplotlib) (4.56.0)\n",
      "Requirement already satisfied: kiwisolver>=1.3.1 in c:\\users\\alan alves\\appdata\\local\\packages\\pythonsoftwarefoundation.python.3.11_qbz5n2kfra8p0\\localcache\\local-packages\\python311\\site-packages (from matplotlib) (1.4.8)\n",
      "Requirement already satisfied: numpy>=1.23 in c:\\users\\alan alves\\appdata\\local\\packages\\pythonsoftwarefoundation.python.3.11_qbz5n2kfra8p0\\localcache\\local-packages\\python311\\site-packages (from matplotlib) (2.2.2)\n",
      "Requirement already satisfied: packaging>=20.0 in c:\\users\\alan alves\\appdata\\local\\packages\\pythonsoftwarefoundation.python.3.11_qbz5n2kfra8p0\\localcache\\local-packages\\python311\\site-packages (from matplotlib) (24.2)\n",
      "Requirement already satisfied: pillow>=8 in c:\\users\\alan alves\\appdata\\local\\packages\\pythonsoftwarefoundation.python.3.11_qbz5n2kfra8p0\\localcache\\local-packages\\python311\\site-packages (from matplotlib) (11.1.0)\n",
      "Requirement already satisfied: pyparsing>=2.3.1 in c:\\users\\alan alves\\appdata\\local\\packages\\pythonsoftwarefoundation.python.3.11_qbz5n2kfra8p0\\localcache\\local-packages\\python311\\site-packages (from matplotlib) (3.2.1)\n",
      "Requirement already satisfied: python-dateutil>=2.7 in c:\\users\\alan alves\\appdata\\local\\packages\\pythonsoftwarefoundation.python.3.11_qbz5n2kfra8p0\\localcache\\local-packages\\python311\\site-packages (from matplotlib) (2.9.0.post0)\n",
      "Requirement already satisfied: six>=1.5 in c:\\users\\alan alves\\appdata\\local\\packages\\pythonsoftwarefoundation.python.3.11_qbz5n2kfra8p0\\localcache\\local-packages\\python311\\site-packages (from python-dateutil>=2.7->matplotlib) (1.17.0)\n"
     ]
    },
    {
     "name": "stderr",
     "output_type": "stream",
     "text": [
      "\n",
      "[notice] A new release of pip is available: 24.0 -> 25.0\n",
      "[notice] To update, run: C:\\Users\\Alan Alves\\AppData\\Local\\Microsoft\\WindowsApps\\PythonSoftwareFoundation.Python.3.11_qbz5n2kfra8p0\\python.exe -m pip install --upgrade pip\n"
     ]
    }
   ],
   "source": [
    "!pip install rasterio\n",
    "!pip install matplotlib "
   ]
  },
  {
   "cell_type": "code",
   "execution_count": 109,
   "metadata": {},
   "outputs": [],
   "source": [
    "import rasterio\n",
    "from rasterio.plot import show \n",
    "\n",
    "import matplotlib.pyplot as plt"
   ]
  },
  {
   "cell_type": "code",
   "execution_count": 110,
   "metadata": {},
   "outputs": [],
   "source": [
    "dataset = rasterio.open(\"C:/Users/GITHUB/PythonStudy/crop_rapideye.tif\") #Atenção as barras de divisão do caminho"
   ]
  },
  {
   "cell_type": "code",
   "execution_count": 111,
   "metadata": {},
   "outputs": [
    {
     "data": {
      "image/png": "[encoded data removed]",
      "text/plain": [
       "<Figure size 640x480 with 1 Axes>"
      ]
     },
     "metadata": {},
     "output_type": "display_data"
    },
    {
     "data": {
      "text/plain": [
       "<Axes: >"
      ]
     },
     "execution_count": 111,
     "metadata": {},
     "output_type": "execute_result"
    }
   ],
   "source": [
    "show(dataset)"
   ]
  },
  {
   "cell_type": "code",
   "execution_count": null,
   "metadata": {},
   "outputs": [
    {
     "data": {
      "text/plain": [
       "array([[   0, 6068, 6105, ..., 7005, 7085,    0],\n",
       "       [   0, 6198, 6273, ..., 6958, 7035,    0],\n",
       "       [   0, 6309, 6169, ..., 7154, 7162,    0],\n",
       "       ...,\n",
       "       [   0, 5908, 5900, ..., 7113, 7203,    0],\n",
       "       [   0, 5910, 5953, ..., 7101, 7142,    0],\n",
       "       [   0, 5880, 5992, ..., 7227, 7309,    0]],\n",
       "      shape=(771, 1169), dtype=uint16)"
      ]
     },
     "execution_count": 113,
     "metadata": {},
     "output_type": "execute_result"
    }
   ],
   "source": [
    "#Convertendo o dataset para um dataset ndarray\n",
    "\n",
    "dataset_array = dataset.read(1)\n",
    "dataset_array"
   ]
  },
  {
   "cell_type": "code",
   "execution_count": 120,
   "metadata": {},
   "outputs": [
    {
     "name": "stdout",
     "output_type": "stream",
     "text": [
      "(771, 1169)\n",
      "2\n",
      "uint16\n",
      "2\n",
      "901299\n"
     ]
    }
   ],
   "source": [
    "#Extraindo informações da matriz, tupla de inteiros que indicam o total de elementos armazenados no array\n",
    "print(dataset_array.shape)\n",
    "\n",
    "#Número de axes - dimensões\n",
    "print(dataset_array.ndim)\n",
    "\n",
    "#Tipo de Dado\n",
    "print(dataset_array.dtype)\n",
    "\n",
    "#Comprimento de um elemento da array, em bytes\n",
    "print(dataset_array.itemsize) #Cada elemento da array possui um valor em bytes\n",
    "\n",
    "#Numero Total de Elementos do Array (linhas * colunas)\n",
    "print(dataset_array.size)\n"
   ]
  },
  {
   "cell_type": "markdown",
   "metadata": {},
   "source": [
    "Estatísticas descritivas em NumPy"
   ]
  },
  {
   "cell_type": "code",
   "execution_count": null,
   "metadata": {},
   "outputs": [
    {
     "data": {
      "text/plain": [
       "1"
      ]
     },
     "execution_count": 129,
     "metadata": {},
     "output_type": "execute_result"
    }
   ],
   "source": [
    "#Calculando a Média\n",
    "dataset_array.mean()\n",
    "\n",
    "\n",
    "#Calculando o Desvio Padrão\n",
    "dataset_array.std()\n",
    "\n",
    "\n",
    "#Calculando o Valor Mínimo\n",
    "dataset_array.min()\n",
    "\n",
    "\n",
    "#Calculando o Valor Máximo\n",
    "dataset_array.max()\n",
    "\n",
    "\n",
    "#Calculando o Soma Total\n",
    "dataset_array.sum()\n",
    "\n",
    "\n",
    "#Identificando valores únicos\n",
    "unique_values = np.unique(dataset_array) #Valores únicos em somente uma dimensão\n",
    "unique_values.shape\n",
    "unique_values.ndim\n"
   ]
  },
  {
   "cell_type": "markdown",
   "metadata": {},
   "source": [
    "# Resumo Geral das Funções"
   ]
  },
  {
   "cell_type": "code",
   "execution_count": 3,
   "metadata": {},
   "outputs": [],
   "source": [
    "\n",
    "#O comando help(função) também pode ser de grande ajuda para verificar os demais elementos que possuem os requisitos.\n",
    "\n",
    "#O python sempre considera o 0 para navegar entre os dados\n",
    "\n",
    "# Fórmulas do numpy quer podem ser úteis:\n",
    "\n",
    "# !pip install numpy - instalando a biblioteca\n",
    "# import numpy as np - importando a biblioteca numpy, com o apelido np\n",
    "\n",
    "# np.array(lista) -  transforma a lista em um array para que possamos trabalhar\n",
    "# np.array(lista, dtype=\"uint64\") - mudamos o tipo de dado para que o array possa suportar uma grande quantidade de elementos\n",
    "#   ex: nump_64 = np.array(lista, dtype=\"uint64\")\n",
    "# usando o nump_64.sum(), nós associamos a função soma ao código, amnetando a produtividade\n",
    "\n",
    "# np.array(lista).shape - traz a quantidade de elementos de uma lista (linhas e colunas)\n",
    "# np.zeros(shape=(linhas,colunas)) - traz uma matriz de elementos zero, definindo quantidade de linhas e colunas\n",
    "# np.zeros(shape=(linhas,colunas)).ndim - conta quantas dimensões temos em nossos dados, neste caso são 2 (linhas e colunas)]\n",
    "# np.zeros(shape=(linhas,colunas)).size - conta quantos itens temos em nossa matriz (linhas * colunas)\n",
    "# np.zeros(shape=(linhas,colunas)).dtype - traz a tipagem dos dados, podendo ser moldável para o formato que quisermos\n",
    "# np.ones(shape=(linhas,colunas)) - traz uma matriz de elementos de numeros um, definindo quantidade de linhas e colunas\n",
    "# np.full(shape=(linhas,colunas),fill_value=numero desejado) - traz uma matriz de elementos de numeros que quisermos, definindo quantidade de linhas e colunas no formato e o numero no fill value\n",
    "\n",
    "# para criarmos matrizes que quisermos, também podemos realizar a mesma função de \n",
    "#  np.ones e fazer a multiplicação, como ex:\n",
    "#  np.ones(shape=(linhas,colunas)) * 2 ou \n",
    "#  np.zeros(shape=(linhas,colunas)) + 2 \n",
    "\n",
    "# np.random.randint(low=menor valor, high=maior valor (contando a partir do zero), size=(linhas, colunas)) \n",
    "# traz uma matriz aleatória de numeros inteiros.\n",
    "\n",
    "# sempre que rodarmos uma matriz aletória o formato será aleatório se não setarmos uma semente (seed):\n",
    "# np.random.seed(0)\n",
    "\n",
    "# ao contrário de listas, nós podemos realizar operações matemáticas entre os arrays, ex: \n",
    "# array3 - array2 ou \n",
    "# array3 * array2, etc.\n",
    "# podemos aplicar diversas operações aritméticas e os elementos se somarão entre si\n",
    "\n",
    "# uma boa prática é sempre associar a uma variável, para facilitar as coisas, ex: \n",
    "# array2 = np.random.randint(low=0, high=3, size=(6,6))\n",
    "\n",
    "# np.arange(start=inicio, stop=fim, step=passo) - cria uma matriz de numeros definidos\n",
    "# podemos tambem setar o numero direto, dai ele assume o fim contando de 0 a 1 em um, ex: \n",
    "# np.arange(numero final) \n",
    "\n",
    "# np.arange(start=inicio, stop=fim, step=passo).reshape(linhas,colunas) - remolda em um shape de linhas e colunas, sendo sempre os multiplos\n",
    "# podemos usar operações matematicas e condicionais dentro de um array, por ex:\n",
    "#  quero os numeros impares de um array: array % 2 == 1, dai basta jogar dentro do array: array[array % 2 == 1];\n",
    " \n",
    "# também podemos associar a uma variável mascara, por ex: \n",
    "# mask_impar = array % 2 == 1, array[mask_impar]\n",
    "#   \n",
    "# puxando o multiplo de um numero: \n",
    "# mult_sete = array % 7 == 0, array[mult_sete] ou \n",
    "# mult_dez = array % 10 == 0, array[mult_dez]\n",
    "\n",
    "# podemos associar aplicar condicionais também de modo a forçar a mascara a puxar o valor que queremos, por ex:\n",
    "\n",
    "# queremos os valores impares e maiores que 5: \n",
    "#   (array % 2 == 1) & \"and\" ou | \"or\" (array > 5), array[(array % 2 == 1) & (array > 5)]\n",
    "#   associando a uma variável mascara: mask_imp_m5 = (array % 2 == 1) & \"and\" (array > 5), array[mask_imp_m5]\n",
    "\n",
    "# podemos utilizar o ~ para impor o \"not\", que trará a condição contrária ao desejado:\n",
    "\n",
    "# array_par = array[~mask_impar], ou mask_par = ~(array % 2 == 1) - array_par = array[not mask_impar]\n",
    "# mask_par_m5 = ~((array % 2 == 1) & (array > 5))\n",
    "\n",
    "# np.isin - podemos checar se possuimos um determinado numero no array que está dentro de uma lista, por ex:\n",
    "\n",
    "# mult_sete = list(range(0, 81, 7)) -  lista de multiplos de sete\n",
    "\n",
    "# array = np.arange(81).reshape(9,9) - matriz de 0 a 81\n",
    "# check_sete = np.isin(array, mult_sete) - mascara dos multiplos de sete dentro do array\n",
    "\n",
    "# array[check_sete] - lista dos multiplos\n",
    "\n",
    "# mais info: https://numpy.org/doc/stable/reference/generated/numpy.isin.html\n",
    "\n",
    "# np.diag(array) - traz as informações da diagonal do array, também podemos usar array.diagonal()\n",
    "# array.ravel() - localizar valores dentro de um array \n",
    "# podemos utilizar até mesmo uma lista, ex: array.ravel()[[32,33,42,43]]\n",
    "# forma alternativa: \n",
    "# \n",
    "# array[np.isin(array, [32,33,42,43])], \n",
    "\n",
    "# podemos criar uma mascara para facilitar: \n",
    "# lista = np.isin(array, [32,33,42,43]), array[lista]\n",
    "\n",
    "# np.tile(matriz, linhas, colunas) - repete as informações de uma matriz um determinado numero de vezes.\n",
    "# array.astype(str) - converte o tipo do array para o formato que desejarmos, \n",
    "# desta forma podemos substituir os elementos de um array por texto\n",
    "\n",
    "# ao criar array com linhas e colunas, podemos pensar em maneiras de criar coordenadas inteligentes \n",
    "# para navegar entre os valores de modo fácil.\n",
    "\n",
    "# é uma boa prática desenvolver valores de maneira funcional, pensando na ordem das tarefas e \n",
    "# no que seria mais facil primeiro.\n",
    "\n",
    "# para mais informações, biblioteca numpy:\n",
    "\n",
    "# https://numpy.org/doc/"
   ]
  }
 ],
 "metadata": {
  "colab": {
   "collapsed_sections": [],
   "name": "Numpy_EX.ipynb",
   "provenance": [],
   "toc_visible": true
  },
  "kernelspec": {
   "display_name": "Python 3",
   "name": "python3"
  },
  "language_info": {
   "codemirror_mode": {
    "name": "ipython",
    "version": 3
   },
   "file_extension": ".py",
   "mimetype": "text/x-python",
   "name": "python",
   "nbconvert_exporter": "python",
   "pygments_lexer": "ipython3",
   "version": "3.11.9"
  }
 },
 "nbformat": 4,
 "nbformat_minor": 0
}
